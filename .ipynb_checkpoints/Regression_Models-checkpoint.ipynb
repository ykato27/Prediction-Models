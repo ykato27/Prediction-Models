{
 "cells": [
  {
   "cell_type": "markdown",
   "metadata": {},
   "source": [
    "## 回帰モデル全般のサンプルコード"
   ]
  },
  {
   "cell_type": "code",
   "execution_count": 29,
   "metadata": {},
   "outputs": [],
   "source": [
    "# ライブラリーのインポート\n",
    "import os\n",
    "from os.path import join\n",
    "import pickle\n",
    "import shutil\n",
    "\n",
    "import pandas as pd\n",
    "import numpy as np\n",
    "\n",
    "import seaborn as sns\n",
    "import matplotlib.pyplot as plt\n",
    "%matplotlib inline\n",
    "\n",
    "# ボストンの住宅価格データ\n",
    "from sklearn.datasets import load_boston\n",
    "\n",
    "# 前処理\n",
    "from sklearn.preprocessing import StandardScaler\n",
    "from sklearn.model_selection import train_test_split\n",
    "\n",
    "# 回帰モデル\n",
    "from sklearn.linear_model import LinearRegression\n",
    "from sklearn.linear_model import Ridge\n",
    "from sklearn.linear_model import Lasso\n",
    "from sklearn.linear_model import ElasticNet\n",
    "from sklearn.ensemble import RandomForestRegressor\n",
    "from sklearn.ensemble import GradientBoostingRegressor\n",
    "from sklearn.ensemble import AdaBoostRegressor\n",
    "from sklearn.svm import SVR\n",
    "\n",
    "# 評価指標\n",
    "from sklearn.metrics import r2_score\n",
    "from sklearn.metrics import mean_absolute_error\n",
    "from sklearn.metrics import mean_squared_error"
   ]
  },
  {
   "cell_type": "code",
   "execution_count": 15,
   "metadata": {
    "colab": {
     "base_uri": "https://localhost:8080/",
     "height": 204
    },
    "id": "5IaiAn8vwWF9",
    "outputId": "df7c3a36-f9f8-428d-a4c7-5e1b6b627db5"
   },
   "outputs": [
    {
     "data": {
      "text/html": [
       "<div>\n",
       "<style scoped>\n",
       "    .dataframe tbody tr th:only-of-type {\n",
       "        vertical-align: middle;\n",
       "    }\n",
       "\n",
       "    .dataframe tbody tr th {\n",
       "        vertical-align: top;\n",
       "    }\n",
       "\n",
       "    .dataframe thead th {\n",
       "        text-align: right;\n",
       "    }\n",
       "</style>\n",
       "<table border=\"1\" class=\"dataframe\">\n",
       "  <thead>\n",
       "    <tr style=\"text-align: right;\">\n",
       "      <th></th>\n",
       "      <th>CRIM</th>\n",
       "      <th>ZN</th>\n",
       "      <th>INDUS</th>\n",
       "      <th>CHAS</th>\n",
       "      <th>NOX</th>\n",
       "      <th>RM</th>\n",
       "      <th>AGE</th>\n",
       "      <th>DIS</th>\n",
       "      <th>RAD</th>\n",
       "      <th>TAX</th>\n",
       "      <th>PTRATIO</th>\n",
       "      <th>B</th>\n",
       "      <th>LSTAT</th>\n",
       "      <th>MEDV</th>\n",
       "    </tr>\n",
       "  </thead>\n",
       "  <tbody>\n",
       "    <tr>\n",
       "      <td>0</td>\n",
       "      <td>0.00632</td>\n",
       "      <td>18.0</td>\n",
       "      <td>2.31</td>\n",
       "      <td>0.0</td>\n",
       "      <td>0.538</td>\n",
       "      <td>6.575</td>\n",
       "      <td>65.2</td>\n",
       "      <td>4.0900</td>\n",
       "      <td>1.0</td>\n",
       "      <td>296.0</td>\n",
       "      <td>15.3</td>\n",
       "      <td>396.90</td>\n",
       "      <td>4.98</td>\n",
       "      <td>24.0</td>\n",
       "    </tr>\n",
       "    <tr>\n",
       "      <td>1</td>\n",
       "      <td>0.02731</td>\n",
       "      <td>0.0</td>\n",
       "      <td>7.07</td>\n",
       "      <td>0.0</td>\n",
       "      <td>0.469</td>\n",
       "      <td>6.421</td>\n",
       "      <td>78.9</td>\n",
       "      <td>4.9671</td>\n",
       "      <td>2.0</td>\n",
       "      <td>242.0</td>\n",
       "      <td>17.8</td>\n",
       "      <td>396.90</td>\n",
       "      <td>9.14</td>\n",
       "      <td>21.6</td>\n",
       "    </tr>\n",
       "    <tr>\n",
       "      <td>2</td>\n",
       "      <td>0.02729</td>\n",
       "      <td>0.0</td>\n",
       "      <td>7.07</td>\n",
       "      <td>0.0</td>\n",
       "      <td>0.469</td>\n",
       "      <td>7.185</td>\n",
       "      <td>61.1</td>\n",
       "      <td>4.9671</td>\n",
       "      <td>2.0</td>\n",
       "      <td>242.0</td>\n",
       "      <td>17.8</td>\n",
       "      <td>392.83</td>\n",
       "      <td>4.03</td>\n",
       "      <td>34.7</td>\n",
       "    </tr>\n",
       "    <tr>\n",
       "      <td>3</td>\n",
       "      <td>0.03237</td>\n",
       "      <td>0.0</td>\n",
       "      <td>2.18</td>\n",
       "      <td>0.0</td>\n",
       "      <td>0.458</td>\n",
       "      <td>6.998</td>\n",
       "      <td>45.8</td>\n",
       "      <td>6.0622</td>\n",
       "      <td>3.0</td>\n",
       "      <td>222.0</td>\n",
       "      <td>18.7</td>\n",
       "      <td>394.63</td>\n",
       "      <td>2.94</td>\n",
       "      <td>33.4</td>\n",
       "    </tr>\n",
       "    <tr>\n",
       "      <td>4</td>\n",
       "      <td>0.06905</td>\n",
       "      <td>0.0</td>\n",
       "      <td>2.18</td>\n",
       "      <td>0.0</td>\n",
       "      <td>0.458</td>\n",
       "      <td>7.147</td>\n",
       "      <td>54.2</td>\n",
       "      <td>6.0622</td>\n",
       "      <td>3.0</td>\n",
       "      <td>222.0</td>\n",
       "      <td>18.7</td>\n",
       "      <td>396.90</td>\n",
       "      <td>5.33</td>\n",
       "      <td>36.2</td>\n",
       "    </tr>\n",
       "  </tbody>\n",
       "</table>\n",
       "</div>"
      ],
      "text/plain": [
       "      CRIM    ZN  INDUS  CHAS    NOX     RM   AGE     DIS  RAD    TAX  \\\n",
       "0  0.00632  18.0   2.31   0.0  0.538  6.575  65.2  4.0900  1.0  296.0   \n",
       "1  0.02731   0.0   7.07   0.0  0.469  6.421  78.9  4.9671  2.0  242.0   \n",
       "2  0.02729   0.0   7.07   0.0  0.469  7.185  61.1  4.9671  2.0  242.0   \n",
       "3  0.03237   0.0   2.18   0.0  0.458  6.998  45.8  6.0622  3.0  222.0   \n",
       "4  0.06905   0.0   2.18   0.0  0.458  7.147  54.2  6.0622  3.0  222.0   \n",
       "\n",
       "   PTRATIO       B  LSTAT  MEDV  \n",
       "0     15.3  396.90   4.98  24.0  \n",
       "1     17.8  396.90   9.14  21.6  \n",
       "2     17.8  392.83   4.03  34.7  \n",
       "3     18.7  394.63   2.94  33.4  \n",
       "4     18.7  396.90   5.33  36.2  "
      ]
     },
     "execution_count": 15,
     "metadata": {},
     "output_type": "execute_result"
    }
   ],
   "source": [
    "# データセットの読込み\n",
    "boston = load_boston()\n",
    "\n",
    "# 説明変数の格納\n",
    "df = pd.DataFrame(boston.data, columns = boston.feature_names)\n",
    "# 目的変数の追加\n",
    "df['MEDV'] = boston.target\n",
    "\n",
    "# データの中身を確認\n",
    "df.head()"
   ]
  },
  {
   "cell_type": "code",
   "execution_count": 20,
   "metadata": {},
   "outputs": [
    {
     "data": {
      "text/plain": [
       "14"
      ]
     },
     "execution_count": 20,
     "metadata": {},
     "output_type": "execute_result"
    }
   ],
   "source": [
    "df.shape[1]"
   ]
  },
  {
   "cell_type": "markdown",
   "metadata": {},
   "source": [
    "### パラメータ設定"
   ]
  },
  {
   "cell_type": "code",
   "execution_count": 3,
   "metadata": {},
   "outputs": [],
   "source": [
    "# ランダムシード値\n",
    "RANDOM_STATE = 10\n",
    "\n",
    "# 学習データと評価データの割合\n",
    "TEST_SIZE = 0.2\n",
    "\n",
    "# 対象モデル\n",
    "models = [\"LinearRegression\",\n",
    "          \"Ridge\",\n",
    "          \"Lasso\",\n",
    "          \"ElasticNet\",\n",
    "          \"GBDT\",\n",
    "          \"AdaBoost\",\n",
    "          \"RandomForest\",\n",
    "          \"SVR\"]\n",
    "\n",
    "# パラメータ設定\n",
    "param_linearregression = {'normalize': False}\n",
    "param_ridge = {'alpha': 0.1, 'random_state': RANDOM_STATE}\n",
    "param_lasso = {'alpha': 0.1, 'random_state': RANDOM_STATE}\n",
    "param_elasticnet = {'alpha': 0.1, 'l1_ratio': 0.5,\n",
    "                    'random_state': RANDOM_STATE}\n",
    "param_randomforest = {'n_estimators': 50, 'max_depth': 5,\n",
    "                      'random_state': RANDOM_STATE}\n",
    "param_gbdt = {'learning_rate': 0.1, 'n_estimators': 50,\n",
    "              'subsample': 1.0, 'min_samples_split': 2,\n",
    "              'min_samples_leaf': 1, 'min_weight_fraction_leaf': 0.0,\n",
    "              'max_depth': 3, 'alpha': 0.9, 'random_state': RANDOM_STATE}\n",
    "param_adaboost = {'n_estimators': 50, 'learning_rate': 1,\n",
    "                  'random_state': RANDOM_STATE}\n",
    "param_svr = {'kernel': 'rbf', 'degree': 3, 'gamma': 'scale', 'C': 10,\n",
    "             'epsilon': 0.1}\n",
    "\n",
    "param_dict = {'LinearRegression': param_linearregression, 'Ridge': param_ridge,\n",
    "              'Lasso': param_lasso, 'ElasticNet': param_elasticnet,\n",
    "              'RandomForest': param_randomforest, 'GBDT': param_gbdt,\n",
    "              'AdaBoost': param_adaboost, 'SVR': param_svr}\n",
    "\n",
    "# outputディレクトリ\n",
    "output_dir = f'models/' "
   ]
  },
  {
   "cell_type": "markdown",
   "metadata": {},
   "source": [
    "### 前処理"
   ]
  },
  {
   "cell_type": "code",
   "execution_count": 21,
   "metadata": {
    "id": "J4QGWhP8_-1Z"
   },
   "outputs": [],
   "source": [
    "# 学習データと評価データを作成\n",
    "x_train, x_test, y_train, y_test = train_test_split(df.iloc[:, 0:df.shape[1]-1],\n",
    "                                                    df.iloc[:, df.shape[1]-1],\n",
    "                                                    test_size=TEST_SIZE,\n",
    "                                                    random_state=RANDOM_STATE)\n",
    "\n",
    "#データを標準化\n",
    "sc = StandardScaler()\n",
    "sc.fit(x_train) #学習用データで標準化\n",
    "x_train_std = sc.transform(x_train)\n",
    "x_test_std = sc.transform(x_test)"
   ]
  },
  {
   "cell_type": "markdown",
   "metadata": {},
   "source": [
    "### モデルの学習"
   ]
  },
  {
   "cell_type": "code",
   "execution_count": 22,
   "metadata": {},
   "outputs": [],
   "source": [
    "def _get_model(model_name):\n",
    "    \"\"\"モデルを取得する\n",
    "    \n",
    "    Args:\n",
    "        model_name (str): モデルの名前\n",
    "    \n",
    "    Returns:\n",
    "        model           : モデル\n",
    "    \"\"\"\n",
    "    model_dict = {\"LinearRegression\": LinearRegression(),\n",
    "                  \"Ridge\": Ridge(),\n",
    "                  \"Lasso\": Lasso(),\n",
    "                  \"ElasticNet\": ElasticNet(),\n",
    "                  \"GBDT\": GradientBoostingRegressor(),\n",
    "                  \"AdaBoost\": AdaBoostRegressor(),\n",
    "                  \"RandomForest\": RandomForestRegressor(),\n",
    "                  \"SVR\": SVR()}\n",
    "\n",
    "    model = model_dict.get(model_name)\n",
    "\n",
    "    if model is None:\n",
    "        raise ValueError(f'model_nameが違います: {model_name}')\n",
    "\n",
    "    return model"
   ]
  },
  {
   "cell_type": "code",
   "execution_count": 23,
   "metadata": {},
   "outputs": [],
   "source": [
    "def models_train(output_dir_path, train, target, models, param_dict):\n",
    "    \"\"\"モデルの学習\n",
    "\n",
    "    Args:\n",
    "        output_dir_path (str): アウトプット先のフォルダパス.\n",
    "        train (nd.array)     : 学習データの説明変数\n",
    "        target (Series)      : 学習データの目的変数\n",
    "        features (list)      : 説明変数のリスト.\n",
    "        models (list)        : 機械学習モデルのリスト\n",
    "        param_dict (dict)    : key: モデル名, values: パラメータ \n",
    "\n",
    "    \"\"\"\n",
    "    path_train_target = join(output_dir_path, f'trained_model/')\n",
    "    if not os.path.exists(path_train_target):\n",
    "        os.makedirs(path_train_target)\n",
    "    \n",
    "    for model_name in models:\n",
    "        model = _get_model(model_name)\n",
    "        model.set_params(**param_dict[model_name])\n",
    "        model.fit(train, target)\n",
    "        \n",
    "        filename = f'{model_name}.pickle'\n",
    "        with open(join(path_train_target, filename), 'wb') as f:\n",
    "            pickle.dump(model, f)\n",
    "\n",
    "    return print('学習完了')"
   ]
  },
  {
   "cell_type": "code",
   "execution_count": 24,
   "metadata": {},
   "outputs": [
    {
     "name": "stdout",
     "output_type": "stream",
     "text": [
      "学習完了\n"
     ]
    }
   ],
   "source": [
    "# モデルの学習\n",
    "models_train(output_dir, x_train_std, y_train, models, param_dict)"
   ]
  },
  {
   "cell_type": "markdown",
   "metadata": {},
   "source": [
    "### モデルの予測"
   ]
  },
  {
   "cell_type": "code",
   "execution_count": 12,
   "metadata": {},
   "outputs": [],
   "source": [
    "def models_predicts(output_dir_path, test):\n",
    "    \"\"\"評価データの予測\n",
    "\n",
    "    Args:\n",
    "        output_dir_path (str): アウトプット先のフォルダパス.\n",
    "        test (nd.array)      : 評価データの説明変数\n",
    "\n",
    "    Returns:\n",
    "        pred_dict (dict)     : モデルに対応した予測結果を持つ辞書.\n",
    "    \"\"\"\n",
    "    # 学習済みモデルのパスを取得\n",
    "    trained_files = os.listdir(join(output_dir_path, f'trained_model/'))\n",
    "    pred_dict = {}\n",
    "\n",
    "    for trained_file in trained_files:\n",
    "        with open(f'{output_dir_path}/trained_model/{trained_file}', 'rb')as f:\n",
    "            model = pickle.load(f)            \n",
    "        pred_dict[trained_file[:-7]] = model.predict(test)\n",
    "\n",
    "    return pred_dict"
   ]
  },
  {
   "cell_type": "code",
   "execution_count": 55,
   "metadata": {},
   "outputs": [],
   "source": [
    "pred_dict = models_predicts(output_dir, x_test_std)"
   ]
  },
  {
   "cell_type": "markdown",
   "metadata": {},
   "source": [
    "### 評価指標算出"
   ]
  },
  {
   "cell_type": "code",
   "execution_count": 67,
   "metadata": {},
   "outputs": [],
   "source": [
    "def _mape(true, pred):  \n",
    "    \"\"\"MAPEを計算する\n",
    "    Args:\n",
    "        true (np.array) : 実測値\n",
    "        pred (np.array) : 予測値\n",
    "\n",
    "    Returns:\n",
    "        np.array        : mapeの計算結果\n",
    "    \"\"\"\n",
    "    return np.mean(np.abs((true - pred) / true)) * 100\n",
    "\n",
    "# SMAPEの計算\n",
    "def _smape(true, pred):\n",
    "    \"\"\"SMAPEを計算する\n",
    "    Args:\n",
    "        true (np.array) : 実測値\n",
    "        pred (np.array) : 予測値\n",
    "\n",
    "    Returns:\n",
    "        np.array        : smapeの計算結果\n",
    "    \"\"\"\n",
    "    return 100/len(true) * np.sum(2 * np.abs(pred - true) / (np.abs(pred) + np.abs(true)))\n",
    "\n",
    "def _calculate_scores(true, pred, models):\n",
    "    \"\"\"全ての評価指標を計算する\n",
    "    Args:\n",
    "        true (np.array)      : 実測値\n",
    "        pred (np.array)      : 予測値\n",
    "        models (list)        : 機械学習モデルのリスト\n",
    "    \n",
    "    Returns:\n",
    "        scores (pd.DataFrame): 各評価指標を纏めた結果\n",
    "    \"\"\"\n",
    "    scores = pd.DataFrame({'R2': r2_score(true, pred_dict[model]),\n",
    "                           'MAE': mean_absolute_error(true, pred_dict[model]),\n",
    "                           'MSE': mean_squared_error(true, pred_dict[model]),\n",
    "                           'RMSE': np.sqrt(mean_squared_error(true, pred_dict[model])),\n",
    "                           'MAPE': _mape(true, pred_dict[model]),\n",
    "                           'SMAPE': _smape(true, pred_dict[model])},\n",
    "                           index = [model])\n",
    "    \n",
    "    return scores"
   ]
  },
  {
   "cell_type": "code",
   "execution_count": 70,
   "metadata": {},
   "outputs": [],
   "source": [
    "def display_scores(true, pred_dict, models):\n",
    "    \"\"\"評価指標の一覧を表示する\n",
    "\n",
    "    Args:\n",
    "        true (np.array)      : 実測値\n",
    "        pred_dict (dict)     : key: モデル名, values: 予測結果\n",
    "        models (list)        : 機械学習モデルのリスト\n",
    "    \n",
    "    \"\"\"\n",
    "    \n",
    "    score_comparison = pd.DataFrame()\n",
    "    for model in models:\n",
    "        pred = pred_dict[model]\n",
    "        true_pred = pd.DataFrame({'true': true, 'pred': pred})\n",
    "        scores = _calculate_scores(true_pred['true'], true_pred['pred'])\n",
    "        score_comparison = pd.concat([score_comparison, scores])\n",
    "        \n",
    "    \n",
    "    display(display_score_comparison)"
   ]
  },
  {
   "cell_type": "code",
   "execution_count": 71,
   "metadata": {},
   "outputs": [
    {
     "ename": "NameError",
     "evalue": "name 'model' is not defined",
     "output_type": "error",
     "traceback": [
      "\u001b[0;31m---------------------------------------------------------------------------\u001b[0m",
      "\u001b[0;31mNameError\u001b[0m                                 Traceback (most recent call last)",
      "\u001b[0;32m<ipython-input-71-d3c5d162ade2>\u001b[0m in \u001b[0;36m<module>\u001b[0;34m\u001b[0m\n\u001b[0;32m----> 1\u001b[0;31m \u001b[0mdisplay_scores\u001b[0m\u001b[0;34m(\u001b[0m\u001b[0my_test\u001b[0m\u001b[0;34m,\u001b[0m \u001b[0mpred_dict\u001b[0m\u001b[0;34m,\u001b[0m \u001b[0mmodels\u001b[0m\u001b[0;34m)\u001b[0m\u001b[0;34m\u001b[0m\u001b[0;34m\u001b[0m\u001b[0m\n\u001b[0m",
      "\u001b[0;32m<ipython-input-70-992fab46d4ee>\u001b[0m in \u001b[0;36mdisplay_scores\u001b[0;34m(true, pred_dict, models)\u001b[0m\n\u001b[1;32m     13\u001b[0m         \u001b[0mpred\u001b[0m \u001b[0;34m=\u001b[0m \u001b[0mpred_dict\u001b[0m\u001b[0;34m[\u001b[0m\u001b[0mmodel\u001b[0m\u001b[0;34m]\u001b[0m\u001b[0;34m\u001b[0m\u001b[0;34m\u001b[0m\u001b[0m\n\u001b[1;32m     14\u001b[0m         \u001b[0mtrue_pred\u001b[0m \u001b[0;34m=\u001b[0m \u001b[0mpd\u001b[0m\u001b[0;34m.\u001b[0m\u001b[0mDataFrame\u001b[0m\u001b[0;34m(\u001b[0m\u001b[0;34m{\u001b[0m\u001b[0;34m'true'\u001b[0m\u001b[0;34m:\u001b[0m \u001b[0mtrue\u001b[0m\u001b[0;34m,\u001b[0m \u001b[0;34m'pred'\u001b[0m\u001b[0;34m:\u001b[0m \u001b[0mpred\u001b[0m\u001b[0;34m}\u001b[0m\u001b[0;34m)\u001b[0m\u001b[0;34m\u001b[0m\u001b[0;34m\u001b[0m\u001b[0m\n\u001b[0;32m---> 15\u001b[0;31m         \u001b[0mscores\u001b[0m \u001b[0;34m=\u001b[0m \u001b[0m_calculate_scores\u001b[0m\u001b[0;34m(\u001b[0m\u001b[0mtrue_pred\u001b[0m\u001b[0;34m[\u001b[0m\u001b[0;34m'true'\u001b[0m\u001b[0;34m]\u001b[0m\u001b[0;34m,\u001b[0m \u001b[0mtrue_pred\u001b[0m\u001b[0;34m[\u001b[0m\u001b[0;34m'pred'\u001b[0m\u001b[0;34m]\u001b[0m\u001b[0;34m)\u001b[0m\u001b[0;34m\u001b[0m\u001b[0;34m\u001b[0m\u001b[0m\n\u001b[0m\u001b[1;32m     16\u001b[0m         \u001b[0mscore_comparison\u001b[0m \u001b[0;34m=\u001b[0m \u001b[0mpd\u001b[0m\u001b[0;34m.\u001b[0m\u001b[0mconcat\u001b[0m\u001b[0;34m(\u001b[0m\u001b[0;34m[\u001b[0m\u001b[0mscore_comparison\u001b[0m\u001b[0;34m,\u001b[0m \u001b[0mscores\u001b[0m\u001b[0;34m]\u001b[0m\u001b[0;34m)\u001b[0m\u001b[0;34m\u001b[0m\u001b[0;34m\u001b[0m\u001b[0m\n\u001b[1;32m     17\u001b[0m \u001b[0;34m\u001b[0m\u001b[0m\n",
      "\u001b[0;32m<ipython-input-67-66d82d52851a>\u001b[0m in \u001b[0;36m_calculate_scores\u001b[0;34m(true, pred)\u001b[0m\n\u001b[1;32m     31\u001b[0m         \u001b[0mscores\u001b[0m \u001b[0;34m(\u001b[0m\u001b[0mpd\u001b[0m\u001b[0;34m.\u001b[0m\u001b[0mDataFrame\u001b[0m\u001b[0;34m)\u001b[0m\u001b[0;34m:\u001b[0m \u001b[0m各評価指標を纏めた結果\u001b[0m\u001b[0;34m\u001b[0m\u001b[0;34m\u001b[0m\u001b[0m\n\u001b[1;32m     32\u001b[0m     \"\"\"\n\u001b[0;32m---> 33\u001b[0;31m     scores = pd.DataFrame({'R2': r2_score(true, pred_dict[model]),\n\u001b[0m\u001b[1;32m     34\u001b[0m                            \u001b[0;34m'MAE'\u001b[0m\u001b[0;34m:\u001b[0m \u001b[0mmean_absolute_error\u001b[0m\u001b[0;34m(\u001b[0m\u001b[0mtrue\u001b[0m\u001b[0;34m,\u001b[0m \u001b[0mpred_dict\u001b[0m\u001b[0;34m[\u001b[0m\u001b[0mmodel\u001b[0m\u001b[0;34m]\u001b[0m\u001b[0;34m)\u001b[0m\u001b[0;34m,\u001b[0m\u001b[0;34m\u001b[0m\u001b[0;34m\u001b[0m\u001b[0m\n\u001b[1;32m     35\u001b[0m                            \u001b[0;34m'MSE'\u001b[0m\u001b[0;34m:\u001b[0m \u001b[0mmean_squared_error\u001b[0m\u001b[0;34m(\u001b[0m\u001b[0mtrue\u001b[0m\u001b[0;34m,\u001b[0m \u001b[0mpred_dict\u001b[0m\u001b[0;34m[\u001b[0m\u001b[0mmodel\u001b[0m\u001b[0;34m]\u001b[0m\u001b[0;34m)\u001b[0m\u001b[0;34m,\u001b[0m\u001b[0;34m\u001b[0m\u001b[0;34m\u001b[0m\u001b[0m\n",
      "\u001b[0;31mNameError\u001b[0m: name 'model' is not defined"
     ]
    }
   ],
   "source": [
    "display_scores(y_test, pred_dict, models)"
   ]
  },
  {
   "cell_type": "code",
   "execution_count": 54,
   "metadata": {},
   "outputs": [
    {
     "data": {
      "text/plain": [
       "dict_values"
      ]
     },
     "execution_count": 54,
     "metadata": {},
     "output_type": "execute_result"
    }
   ],
   "source": [
    "type(scores.values())"
   ]
  },
  {
   "cell_type": "code",
   "execution_count": 50,
   "metadata": {},
   "outputs": [
    {
     "ename": "KeyError",
     "evalue": "0",
     "output_type": "error",
     "traceback": [
      "\u001b[0;31m---------------------------------------------------------------------------\u001b[0m",
      "\u001b[0;31mKeyError\u001b[0m                                  Traceback (most recent call last)",
      "\u001b[0;32m/opt/anaconda3/lib/python3.7/site-packages/pandas/core/indexes/base.py\u001b[0m in \u001b[0;36mget_loc\u001b[0;34m(self, key, method, tolerance)\u001b[0m\n\u001b[1;32m   2896\u001b[0m             \u001b[0;32mtry\u001b[0m\u001b[0;34m:\u001b[0m\u001b[0;34m\u001b[0m\u001b[0;34m\u001b[0m\u001b[0m\n\u001b[0;32m-> 2897\u001b[0;31m                 \u001b[0;32mreturn\u001b[0m \u001b[0mself\u001b[0m\u001b[0;34m.\u001b[0m\u001b[0m_engine\u001b[0m\u001b[0;34m.\u001b[0m\u001b[0mget_loc\u001b[0m\u001b[0;34m(\u001b[0m\u001b[0mkey\u001b[0m\u001b[0;34m)\u001b[0m\u001b[0;34m\u001b[0m\u001b[0;34m\u001b[0m\u001b[0m\n\u001b[0m\u001b[1;32m   2898\u001b[0m             \u001b[0;32mexcept\u001b[0m \u001b[0mKeyError\u001b[0m\u001b[0;34m:\u001b[0m\u001b[0;34m\u001b[0m\u001b[0;34m\u001b[0m\u001b[0m\n",
      "\u001b[0;32mpandas/_libs/index.pyx\u001b[0m in \u001b[0;36mpandas._libs.index.IndexEngine.get_loc\u001b[0;34m()\u001b[0m\n",
      "\u001b[0;32mpandas/_libs/index.pyx\u001b[0m in \u001b[0;36mpandas._libs.index.IndexEngine.get_loc\u001b[0;34m()\u001b[0m\n",
      "\u001b[0;32mpandas/_libs/hashtable_class_helper.pxi\u001b[0m in \u001b[0;36mpandas._libs.hashtable.PyObjectHashTable.get_item\u001b[0;34m()\u001b[0m\n",
      "\u001b[0;32mpandas/_libs/hashtable_class_helper.pxi\u001b[0m in \u001b[0;36mpandas._libs.hashtable.PyObjectHashTable.get_item\u001b[0;34m()\u001b[0m\n",
      "\u001b[0;31mKeyError\u001b[0m: 0",
      "\nDuring handling of the above exception, another exception occurred:\n",
      "\u001b[0;31mKeyError\u001b[0m                                  Traceback (most recent call last)",
      "\u001b[0;32m<ipython-input-50-6421edb61dad>\u001b[0m in \u001b[0;36m<module>\u001b[0;34m\u001b[0m\n\u001b[0;32m----> 1\u001b[0;31m \u001b[0mdf\u001b[0m \u001b[0;34m=\u001b[0m \u001b[0mpd\u001b[0m\u001b[0;34m.\u001b[0m\u001b[0mDataFrame\u001b[0m\u001b[0;34m(\u001b[0m\u001b[0mscores\u001b[0m\u001b[0;34m.\u001b[0m\u001b[0mvalues\u001b[0m\u001b[0;34m(\u001b[0m\u001b[0;34m)\u001b[0m\u001b[0;34m,\u001b[0m \u001b[0mindex\u001b[0m\u001b[0;34m=\u001b[0m\u001b[0mscores\u001b[0m\u001b[0;34m.\u001b[0m\u001b[0mkeys\u001b[0m\u001b[0;34m(\u001b[0m\u001b[0;34m)\u001b[0m\u001b[0;34m)\u001b[0m\u001b[0;34m\u001b[0m\u001b[0;34m\u001b[0m\u001b[0m\n\u001b[0m",
      "\u001b[0;32m/opt/anaconda3/lib/python3.7/site-packages/pandas/core/frame.py\u001b[0m in \u001b[0;36m__init__\u001b[0;34m(self, data, index, columns, dtype, copy)\u001b[0m\n\u001b[1;32m    462\u001b[0m                     \u001b[0mmgr\u001b[0m \u001b[0;34m=\u001b[0m \u001b[0marrays_to_mgr\u001b[0m\u001b[0;34m(\u001b[0m\u001b[0marrays\u001b[0m\u001b[0;34m,\u001b[0m \u001b[0mcolumns\u001b[0m\u001b[0;34m,\u001b[0m \u001b[0mindex\u001b[0m\u001b[0;34m,\u001b[0m \u001b[0mcolumns\u001b[0m\u001b[0;34m,\u001b[0m \u001b[0mdtype\u001b[0m\u001b[0;34m=\u001b[0m\u001b[0mdtype\u001b[0m\u001b[0;34m)\u001b[0m\u001b[0;34m\u001b[0m\u001b[0;34m\u001b[0m\u001b[0m\n\u001b[1;32m    463\u001b[0m                 \u001b[0;32melse\u001b[0m\u001b[0;34m:\u001b[0m\u001b[0;34m\u001b[0m\u001b[0;34m\u001b[0m\u001b[0m\n\u001b[0;32m--> 464\u001b[0;31m                     \u001b[0mmgr\u001b[0m \u001b[0;34m=\u001b[0m \u001b[0minit_ndarray\u001b[0m\u001b[0;34m(\u001b[0m\u001b[0mdata\u001b[0m\u001b[0;34m,\u001b[0m \u001b[0mindex\u001b[0m\u001b[0;34m,\u001b[0m \u001b[0mcolumns\u001b[0m\u001b[0;34m,\u001b[0m \u001b[0mdtype\u001b[0m\u001b[0;34m=\u001b[0m\u001b[0mdtype\u001b[0m\u001b[0;34m,\u001b[0m \u001b[0mcopy\u001b[0m\u001b[0;34m=\u001b[0m\u001b[0mcopy\u001b[0m\u001b[0;34m)\u001b[0m\u001b[0;34m\u001b[0m\u001b[0;34m\u001b[0m\u001b[0m\n\u001b[0m\u001b[1;32m    465\u001b[0m             \u001b[0;32melse\u001b[0m\u001b[0;34m:\u001b[0m\u001b[0;34m\u001b[0m\u001b[0;34m\u001b[0m\u001b[0m\n\u001b[1;32m    466\u001b[0m                 \u001b[0mmgr\u001b[0m \u001b[0;34m=\u001b[0m \u001b[0minit_dict\u001b[0m\u001b[0;34m(\u001b[0m\u001b[0;34m{\u001b[0m\u001b[0;34m}\u001b[0m\u001b[0;34m,\u001b[0m \u001b[0mindex\u001b[0m\u001b[0;34m,\u001b[0m \u001b[0mcolumns\u001b[0m\u001b[0;34m,\u001b[0m \u001b[0mdtype\u001b[0m\u001b[0;34m=\u001b[0m\u001b[0mdtype\u001b[0m\u001b[0;34m)\u001b[0m\u001b[0;34m\u001b[0m\u001b[0;34m\u001b[0m\u001b[0m\n",
      "\u001b[0;32m/opt/anaconda3/lib/python3.7/site-packages/pandas/core/internals/construction.py\u001b[0m in \u001b[0;36minit_ndarray\u001b[0;34m(values, index, columns, dtype, copy)\u001b[0m\n\u001b[1;32m    169\u001b[0m     \u001b[0;31m# by definition an array here\u001b[0m\u001b[0;34m\u001b[0m\u001b[0;34m\u001b[0m\u001b[0;34m\u001b[0m\u001b[0m\n\u001b[1;32m    170\u001b[0m     \u001b[0;31m# the dtypes will be coerced to a single dtype\u001b[0m\u001b[0;34m\u001b[0m\u001b[0;34m\u001b[0m\u001b[0;34m\u001b[0m\u001b[0m\n\u001b[0;32m--> 171\u001b[0;31m     \u001b[0mvalues\u001b[0m \u001b[0;34m=\u001b[0m \u001b[0mprep_ndarray\u001b[0m\u001b[0;34m(\u001b[0m\u001b[0mvalues\u001b[0m\u001b[0;34m,\u001b[0m \u001b[0mcopy\u001b[0m\u001b[0;34m=\u001b[0m\u001b[0mcopy\u001b[0m\u001b[0;34m)\u001b[0m\u001b[0;34m\u001b[0m\u001b[0;34m\u001b[0m\u001b[0m\n\u001b[0m\u001b[1;32m    172\u001b[0m \u001b[0;34m\u001b[0m\u001b[0m\n\u001b[1;32m    173\u001b[0m     \u001b[0;32mif\u001b[0m \u001b[0mdtype\u001b[0m \u001b[0;32mis\u001b[0m \u001b[0;32mnot\u001b[0m \u001b[0;32mNone\u001b[0m\u001b[0;34m:\u001b[0m\u001b[0;34m\u001b[0m\u001b[0;34m\u001b[0m\u001b[0m\n",
      "\u001b[0;32m/opt/anaconda3/lib/python3.7/site-packages/pandas/core/internals/construction.py\u001b[0m in \u001b[0;36mprep_ndarray\u001b[0;34m(values, copy)\u001b[0m\n\u001b[1;32m    274\u001b[0m         \u001b[0;32mtry\u001b[0m\u001b[0;34m:\u001b[0m\u001b[0;34m\u001b[0m\u001b[0;34m\u001b[0m\u001b[0m\n\u001b[1;32m    275\u001b[0m             \u001b[0;32mif\u001b[0m \u001b[0mis_list_like\u001b[0m\u001b[0;34m(\u001b[0m\u001b[0mvalues\u001b[0m\u001b[0;34m[\u001b[0m\u001b[0;36m0\u001b[0m\u001b[0;34m]\u001b[0m\u001b[0;34m)\u001b[0m \u001b[0;32mor\u001b[0m \u001b[0mhasattr\u001b[0m\u001b[0;34m(\u001b[0m\u001b[0mvalues\u001b[0m\u001b[0;34m[\u001b[0m\u001b[0;36m0\u001b[0m\u001b[0;34m]\u001b[0m\u001b[0;34m,\u001b[0m \u001b[0;34m\"len\"\u001b[0m\u001b[0;34m)\u001b[0m\u001b[0;34m:\u001b[0m\u001b[0;34m\u001b[0m\u001b[0;34m\u001b[0m\u001b[0m\n\u001b[0;32m--> 276\u001b[0;31m                 \u001b[0mvalues\u001b[0m \u001b[0;34m=\u001b[0m \u001b[0mnp\u001b[0m\u001b[0;34m.\u001b[0m\u001b[0marray\u001b[0m\u001b[0;34m(\u001b[0m\u001b[0;34m[\u001b[0m\u001b[0mconvert\u001b[0m\u001b[0;34m(\u001b[0m\u001b[0mv\u001b[0m\u001b[0;34m)\u001b[0m \u001b[0;32mfor\u001b[0m \u001b[0mv\u001b[0m \u001b[0;32min\u001b[0m \u001b[0mvalues\u001b[0m\u001b[0;34m]\u001b[0m\u001b[0;34m)\u001b[0m\u001b[0;34m\u001b[0m\u001b[0;34m\u001b[0m\u001b[0m\n\u001b[0m\u001b[1;32m    277\u001b[0m             \u001b[0;32melif\u001b[0m \u001b[0misinstance\u001b[0m\u001b[0;34m(\u001b[0m\u001b[0mvalues\u001b[0m\u001b[0;34m[\u001b[0m\u001b[0;36m0\u001b[0m\u001b[0;34m]\u001b[0m\u001b[0;34m,\u001b[0m \u001b[0mnp\u001b[0m\u001b[0;34m.\u001b[0m\u001b[0mndarray\u001b[0m\u001b[0;34m)\u001b[0m \u001b[0;32mand\u001b[0m \u001b[0mvalues\u001b[0m\u001b[0;34m[\u001b[0m\u001b[0;36m0\u001b[0m\u001b[0;34m]\u001b[0m\u001b[0;34m.\u001b[0m\u001b[0mndim\u001b[0m \u001b[0;34m==\u001b[0m \u001b[0;36m0\u001b[0m\u001b[0;34m:\u001b[0m\u001b[0;34m\u001b[0m\u001b[0;34m\u001b[0m\u001b[0m\n\u001b[1;32m    278\u001b[0m                 \u001b[0;31m# GH#21861\u001b[0m\u001b[0;34m\u001b[0m\u001b[0;34m\u001b[0m\u001b[0;34m\u001b[0m\u001b[0m\n",
      "\u001b[0;32m/opt/anaconda3/lib/python3.7/site-packages/pandas/core/frame.py\u001b[0m in \u001b[0;36m__getitem__\u001b[0;34m(self, key)\u001b[0m\n\u001b[1;32m   2978\u001b[0m             \u001b[0;32mif\u001b[0m \u001b[0mself\u001b[0m\u001b[0;34m.\u001b[0m\u001b[0mcolumns\u001b[0m\u001b[0;34m.\u001b[0m\u001b[0mnlevels\u001b[0m \u001b[0;34m>\u001b[0m \u001b[0;36m1\u001b[0m\u001b[0;34m:\u001b[0m\u001b[0;34m\u001b[0m\u001b[0;34m\u001b[0m\u001b[0m\n\u001b[1;32m   2979\u001b[0m                 \u001b[0;32mreturn\u001b[0m \u001b[0mself\u001b[0m\u001b[0;34m.\u001b[0m\u001b[0m_getitem_multilevel\u001b[0m\u001b[0;34m(\u001b[0m\u001b[0mkey\u001b[0m\u001b[0;34m)\u001b[0m\u001b[0;34m\u001b[0m\u001b[0;34m\u001b[0m\u001b[0m\n\u001b[0;32m-> 2980\u001b[0;31m             \u001b[0mindexer\u001b[0m \u001b[0;34m=\u001b[0m \u001b[0mself\u001b[0m\u001b[0;34m.\u001b[0m\u001b[0mcolumns\u001b[0m\u001b[0;34m.\u001b[0m\u001b[0mget_loc\u001b[0m\u001b[0;34m(\u001b[0m\u001b[0mkey\u001b[0m\u001b[0;34m)\u001b[0m\u001b[0;34m\u001b[0m\u001b[0;34m\u001b[0m\u001b[0m\n\u001b[0m\u001b[1;32m   2981\u001b[0m             \u001b[0;32mif\u001b[0m \u001b[0mis_integer\u001b[0m\u001b[0;34m(\u001b[0m\u001b[0mindexer\u001b[0m\u001b[0;34m)\u001b[0m\u001b[0;34m:\u001b[0m\u001b[0;34m\u001b[0m\u001b[0;34m\u001b[0m\u001b[0m\n\u001b[1;32m   2982\u001b[0m                 \u001b[0mindexer\u001b[0m \u001b[0;34m=\u001b[0m \u001b[0;34m[\u001b[0m\u001b[0mindexer\u001b[0m\u001b[0;34m]\u001b[0m\u001b[0;34m\u001b[0m\u001b[0;34m\u001b[0m\u001b[0m\n",
      "\u001b[0;32m/opt/anaconda3/lib/python3.7/site-packages/pandas/core/indexes/base.py\u001b[0m in \u001b[0;36mget_loc\u001b[0;34m(self, key, method, tolerance)\u001b[0m\n\u001b[1;32m   2897\u001b[0m                 \u001b[0;32mreturn\u001b[0m \u001b[0mself\u001b[0m\u001b[0;34m.\u001b[0m\u001b[0m_engine\u001b[0m\u001b[0;34m.\u001b[0m\u001b[0mget_loc\u001b[0m\u001b[0;34m(\u001b[0m\u001b[0mkey\u001b[0m\u001b[0;34m)\u001b[0m\u001b[0;34m\u001b[0m\u001b[0;34m\u001b[0m\u001b[0m\n\u001b[1;32m   2898\u001b[0m             \u001b[0;32mexcept\u001b[0m \u001b[0mKeyError\u001b[0m\u001b[0;34m:\u001b[0m\u001b[0;34m\u001b[0m\u001b[0;34m\u001b[0m\u001b[0m\n\u001b[0;32m-> 2899\u001b[0;31m                 \u001b[0;32mreturn\u001b[0m \u001b[0mself\u001b[0m\u001b[0;34m.\u001b[0m\u001b[0m_engine\u001b[0m\u001b[0;34m.\u001b[0m\u001b[0mget_loc\u001b[0m\u001b[0;34m(\u001b[0m\u001b[0mself\u001b[0m\u001b[0;34m.\u001b[0m\u001b[0m_maybe_cast_indexer\u001b[0m\u001b[0;34m(\u001b[0m\u001b[0mkey\u001b[0m\u001b[0;34m)\u001b[0m\u001b[0;34m)\u001b[0m\u001b[0;34m\u001b[0m\u001b[0;34m\u001b[0m\u001b[0m\n\u001b[0m\u001b[1;32m   2900\u001b[0m         \u001b[0mindexer\u001b[0m \u001b[0;34m=\u001b[0m \u001b[0mself\u001b[0m\u001b[0;34m.\u001b[0m\u001b[0mget_indexer\u001b[0m\u001b[0;34m(\u001b[0m\u001b[0;34m[\u001b[0m\u001b[0mkey\u001b[0m\u001b[0;34m]\u001b[0m\u001b[0;34m,\u001b[0m \u001b[0mmethod\u001b[0m\u001b[0;34m=\u001b[0m\u001b[0mmethod\u001b[0m\u001b[0;34m,\u001b[0m \u001b[0mtolerance\u001b[0m\u001b[0;34m=\u001b[0m\u001b[0mtolerance\u001b[0m\u001b[0;34m)\u001b[0m\u001b[0;34m\u001b[0m\u001b[0;34m\u001b[0m\u001b[0m\n\u001b[1;32m   2901\u001b[0m         \u001b[0;32mif\u001b[0m \u001b[0mindexer\u001b[0m\u001b[0;34m.\u001b[0m\u001b[0mndim\u001b[0m \u001b[0;34m>\u001b[0m \u001b[0;36m1\u001b[0m \u001b[0;32mor\u001b[0m \u001b[0mindexer\u001b[0m\u001b[0;34m.\u001b[0m\u001b[0msize\u001b[0m \u001b[0;34m>\u001b[0m \u001b[0;36m1\u001b[0m\u001b[0;34m:\u001b[0m\u001b[0;34m\u001b[0m\u001b[0;34m\u001b[0m\u001b[0m\n",
      "\u001b[0;32mpandas/_libs/index.pyx\u001b[0m in \u001b[0;36mpandas._libs.index.IndexEngine.get_loc\u001b[0;34m()\u001b[0m\n",
      "\u001b[0;32mpandas/_libs/index.pyx\u001b[0m in \u001b[0;36mpandas._libs.index.IndexEngine.get_loc\u001b[0;34m()\u001b[0m\n",
      "\u001b[0;32mpandas/_libs/hashtable_class_helper.pxi\u001b[0m in \u001b[0;36mpandas._libs.hashtable.PyObjectHashTable.get_item\u001b[0;34m()\u001b[0m\n",
      "\u001b[0;32mpandas/_libs/hashtable_class_helper.pxi\u001b[0m in \u001b[0;36mpandas._libs.hashtable.PyObjectHashTable.get_item\u001b[0;34m()\u001b[0m\n",
      "\u001b[0;31mKeyError\u001b[0m: 0"
     ]
    }
   ],
   "source": [
    "df = pd.DataFrame(scores.values(), index=scores.keys())"
   ]
  },
  {
   "cell_type": "code",
   "execution_count": null,
   "metadata": {},
   "outputs": [],
   "source": []
  },
  {
   "cell_type": "code",
   "execution_count": null,
   "metadata": {},
   "outputs": [],
   "source": []
  },
  {
   "cell_type": "code",
   "execution_count": null,
   "metadata": {
    "colab": {
     "base_uri": "https://localhost:8080/"
    },
    "id": "tmHpKDZImRVa",
    "outputId": "749be0dd-4504-4fc0-feac-b90ea8750f00"
   },
   "outputs": [],
   "source": [
    "\n",
    "\n",
    "# スコア計算のためのライブ\n",
    "# モデルの学習\n",
    "lr = LinearRegression()\n",
    "lr.fit(x_train_std, y_train)\n",
    "\n",
    "# 予測　\n",
    "pred_lr = lr.predict(x_test_std)\n",
    "\n",
    "# 評価\n",
    "# 決定係数(R2)\n",
    "r2_lr = r2_score(y_test, pred_lr)\n",
    "\n",
    "# 平均絶対誤差(MAE)\n",
    "mae_lr = mean_absolute_error(y_test, pred_lr)\n",
    "\n",
    "print(\"R2　:　%.3f\" % r2_lr)\n",
    "print(\"MAE : %.3f\" % mae_lr)\n",
    "\n",
    "# 回帰係数\n",
    "print(\"Coef = \", lr.coef_)\n",
    "# 切片\n",
    "print(\"Intercept =\", lr.intercept_)"
   ]
  },
  {
   "cell_type": "code",
   "execution_count": null,
   "metadata": {},
   "outputs": [],
   "source": [
    "type(y_train)"
   ]
  },
  {
   "cell_type": "code",
   "execution_count": null,
   "metadata": {
    "colab": {
     "base_uri": "https://localhost:8080/",
     "height": 280
    },
    "id": "34-3X-kE5-o9",
    "outputId": "ceb92fe2-a6ca-403b-b8f6-3c9853154048"
   },
   "outputs": [],
   "source": [
    "plt.xlabel(\"pred_lr\")\n",
    "plt.ylabel(\"y_test\")\n",
    "plt.scatter(pred_lr, y_test)\n",
    "\n",
    "plt.show()"
   ]
  },
  {
   "cell_type": "code",
   "execution_count": null,
   "metadata": {
    "colab": {
     "base_uri": "https://localhost:8080/"
    },
    "id": "kdh4RGnI_BpX",
    "outputId": "29ea657b-334d-4246-d861-af4ed2018a1f"
   },
   "outputs": [],
   "source": [
    "# モデルの学習\n",
    "ridge = Ridge(alpha=10)\n",
    "ridge.fit(x_train_std, y_train)\n",
    "\n",
    "# 予測　\n",
    "pred_ridge = ridge.predict(x_test_std)\n",
    "\n",
    "# 評価\n",
    "# 決定係数(R2)\n",
    "r2_ridge = r2_score(y_test, pred_ridge)\n",
    "\n",
    "# 平均絶対誤差(MAE)\n",
    "mae_ridge = mean_absolute_error(y_test, pred_ridge)\n",
    "\n",
    "print(\"R2　:　%.3f\" % r2_ridge)\n",
    "print(\"MAE : %.3f\" % mae_ridge)\n",
    "\n",
    "# 回帰係数\n",
    "print(\"Coef = \", ridge.coef_)"
   ]
  },
  {
   "cell_type": "code",
   "execution_count": null,
   "metadata": {
    "id": "9fDpDW3WCA7O"
   },
   "outputs": [],
   "source": [
    "df_ridge = pd.DataFrame(pred_ridge)"
   ]
  },
  {
   "cell_type": "code",
   "execution_count": null,
   "metadata": {
    "id": "A08ShTdHDkMk"
   },
   "outputs": [],
   "source": [
    "df_lr = pd.DataFrame(pred_lr)"
   ]
  },
  {
   "cell_type": "code",
   "execution_count": null,
   "metadata": {
    "colab": {
     "base_uri": "https://localhost:8080/"
    },
    "id": "cgBuCyhdDoGS",
    "outputId": "5f14f15e-f9fc-4fe3-9df7-cef5175a477d"
   },
   "outputs": [],
   "source": [
    "df_lr.columns = ['lr']\n",
    "print(df_lr)"
   ]
  },
  {
   "cell_type": "code",
   "execution_count": null,
   "metadata": {
    "colab": {
     "base_uri": "https://localhost:8080/",
     "height": 419
    },
    "id": "eFcafDVDDslC",
    "outputId": "e2549a08-8478-423b-c43b-6e3531c2adff"
   },
   "outputs": [],
   "source": [
    "pd.concat([df_ridge, df_lr, df_lr], axis=1, sort=False)"
   ]
  },
  {
   "cell_type": "code",
   "execution_count": null,
   "metadata": {
    "colab": {
     "base_uri": "https://localhost:8080/"
    },
    "id": "R-fG85qGCSk2",
    "outputId": "218edd53-d637-4824-baa4-f068ffa9854d"
   },
   "outputs": [],
   "source": [
    "df_ridge.columns = ['ridge']\n",
    "print(df_ridge)"
   ]
  },
  {
   "cell_type": "code",
   "execution_count": null,
   "metadata": {
    "colab": {
     "base_uri": "https://localhost:8080/",
     "height": 134
    },
    "id": "7VnL3K2rCsI3",
    "outputId": "8b2eb7c6-1d34-4433-b39a-1041e7635a24"
   },
   "outputs": [],
   "source": [
    "pd.DataFrame(pd.np.column_stack([df_ridge, pred_lr, dtype=int]))"
   ]
  },
  {
   "cell_type": "code",
   "execution_count": null,
   "metadata": {
    "colab": {
     "base_uri": "https://localhost:8080/",
     "height": 280
    },
    "id": "FnUiJErcFIB-",
    "outputId": "36ce535a-e08d-4392-c628-37367c7d6dad"
   },
   "outputs": [],
   "source": [
    "plt.xlabel(\"pred_ridge\")\n",
    "plt.ylabel(\"y_test\")\n",
    "plt.scatter(pred_ridge, y_test)\n",
    "\n",
    "plt.show()"
   ]
  },
  {
   "cell_type": "code",
   "execution_count": null,
   "metadata": {
    "colab": {
     "base_uri": "https://localhost:8080/"
    },
    "id": "H-AZ2DVXFuK7",
    "outputId": "e67291be-b5d8-4570-a9d3-47bea04d5e83"
   },
   "outputs": [],
   "source": [
    "# モデルの学習\n",
    "lasso = Lasso(alpha=0.05)\n",
    "lasso.fit(x_train_std, y_train)\n",
    "\n",
    "# 予測　\n",
    "pred_lasso = lasso.predict(x_test_std)\n",
    "\n",
    "# 評価\n",
    "# 決定係数(R2)\n",
    "r2_lasso = r2_score(y_test, pred_lasso)\n",
    "\n",
    "# 平均絶対誤差(MAE)\n",
    "mae_lasso = mean_absolute_error(y_test, pred_lasso)\n",
    "\n",
    "print(\"R2　:　%.3f\" % r2_lasso)\n",
    "print(\"MAE : %.3f\" % mae_lasso)\n",
    "\n",
    "# 回帰係数\n",
    "print(\"Coef = \", lasso.coef_)"
   ]
  },
  {
   "cell_type": "code",
   "execution_count": null,
   "metadata": {
    "colab": {
     "base_uri": "https://localhost:8080/",
     "height": 280
    },
    "id": "wZufGsasIbhG",
    "outputId": "175f97d1-1d8d-4dc2-e426-bf259b391842"
   },
   "outputs": [],
   "source": [
    "plt.xlabel(\"pred_lasso\")\n",
    "plt.ylabel(\"y_test\")\n",
    "plt.scatter(pred_lasso, y_test)\n",
    "\n",
    "plt.show()"
   ]
  },
  {
   "cell_type": "code",
   "execution_count": null,
   "metadata": {
    "colab": {
     "base_uri": "https://localhost:8080/"
    },
    "id": "MdB69EZjJUAw",
    "outputId": "89021fed-e284-45ca-a66c-b19d80beb4e0"
   },
   "outputs": [],
   "source": [
    "# モデルの学習\n",
    "elasticnet = ElasticNet(alpha=0.05)\n",
    "elasticnet.fit(x_train_std, y_train)\n",
    "\n",
    "# 予測　\n",
    "pred_elasticnet = elasticnet.predict(x_test_std)\n",
    "\n",
    "# 評価\n",
    "# 決定係数(R2)\n",
    "r2_elasticnet = r2_score(y_test, pred_elasticnet)\n",
    "\n",
    "# 平均絶対誤差(MAE)\n",
    "mae_elasticnet = mean_absolute_error(y_test, pred_elasticnet)\n",
    "\n",
    "print(\"R2　:　%.3f\" % r2_elasticnet)\n",
    "print(\"MAE : %.3f\" % mae_elasticnet)\n",
    "\n",
    "# 回帰係数\n",
    "print(\"Coef = \", elasticnet.coef_)"
   ]
  },
  {
   "cell_type": "code",
   "execution_count": null,
   "metadata": {
    "colab": {
     "base_uri": "https://localhost:8080/",
     "height": 280
    },
    "id": "0o6FL5fQQZWv",
    "outputId": "b6c7cf31-8fa0-4a34-c8d2-4d984b4fb455"
   },
   "outputs": [],
   "source": [
    "plt.xlabel(\"pred_elasticnet\")\n",
    "plt.ylabel(\"y_test\")\n",
    "plt.scatter(pred_elasticnet, y_test)\n",
    "\n",
    "plt.show()"
   ]
  },
  {
   "cell_type": "code",
   "execution_count": null,
   "metadata": {
    "colab": {
     "base_uri": "https://localhost:8080/"
    },
    "id": "QjTodvSJQhND",
    "outputId": "894d6a32-22c7-4276-83a2-f80a72f4a5db"
   },
   "outputs": [],
   "source": [
    "# モデルの学習\n",
    "RF = RandomForestRegressor()\n",
    "RF.fit(x_train_std, y_train)\n",
    "\n",
    "# 予測　\n",
    "pred_RF = RF.predict(x_test_std)\n",
    "\n",
    "# 評価\n",
    "# 決定係数(R2)\n",
    "r2_RF = r2_score(y_test, pred_RF)\n",
    "\n",
    "# 平均絶対誤差(MAE)\n",
    "mae_RF = mean_absolute_error(y_test, pred_RF)\n",
    "\n",
    "print(\"R2　:　%.3f\" % r2_RF)\n",
    "print(\"MAE : %.3f\" % mae_RF)\n",
    "\n",
    "# 変数重要度\n",
    "print(\"feature_importances = \", RF.feature_importances_)"
   ]
  },
  {
   "cell_type": "code",
   "execution_count": null,
   "metadata": {
    "colab": {
     "base_uri": "https://localhost:8080/",
     "height": 280
    },
    "id": "HoduvMFgUlPN",
    "outputId": "81466cf8-1786-4a47-d70e-6ebde96a6118"
   },
   "outputs": [],
   "source": [
    "plt.xlabel(\"pred_RF\")\n",
    "plt.ylabel(\"y_test\")\n",
    "plt.scatter(pred_RF, y_test)\n",
    "\n",
    "plt.show()"
   ]
  },
  {
   "cell_type": "code",
   "execution_count": null,
   "metadata": {
    "colab": {
     "base_uri": "https://localhost:8080/"
    },
    "id": "MhE3VE3fUlyL",
    "outputId": "112ef2ac-b9c5-4278-97c8-174737212908"
   },
   "outputs": [],
   "source": [
    "# モデルの学習\n",
    "GBDT = GradientBoostingRegressor()\n",
    "GBDT.fit(x_train_std, y_train)\n",
    "\n",
    "# 予測　\n",
    "pred_GBDT = GBDT.predict(x_test_std)\n",
    "\n",
    "# 評価\n",
    "# 決定係数(R2)\n",
    "r2_GBDT = r2_score(y_test, pred_GBDT)\n",
    "\n",
    "# 平均絶対誤差(MAE)\n",
    "mae_GBDT = mean_absolute_error(y_test, pred_GBDT)\n",
    "\n",
    "print(\"R2 : %.3f\" % r2_GBDT)\n",
    "print(\"MAE : %.3f\" % mae_GBDT)\n",
    "\n",
    "# 変数重要度\n",
    "print(\"feature_importances = \", GBDT.feature_importances_)"
   ]
  },
  {
   "cell_type": "code",
   "execution_count": null,
   "metadata": {
    "colab": {
     "base_uri": "https://localhost:8080/",
     "height": 280
    },
    "id": "zqUJDd-vWG_N",
    "outputId": "9c9e2ef8-bbbf-48c4-ea19-8b463206692a"
   },
   "outputs": [],
   "source": [
    "plt.xlabel(\"pred_GBDT\")\n",
    "plt.ylabel(\"y_test\")\n",
    "plt.scatter(pred_GBDT, y_test)\n",
    "\n",
    "plt.show()"
   ]
  },
  {
   "cell_type": "code",
   "execution_count": null,
   "metadata": {
    "colab": {
     "base_uri": "https://localhost:8080/",
     "height": 236
    },
    "id": "hLJUqIC9WMdP",
    "outputId": "dd346ca3-c8d9-42ef-d6f2-8e52d468c5af"
   },
   "outputs": [],
   "source": [
    "# モデルの学習\n",
    "SVR = SVR(kernel='linear', C=1, epsilon=0.1, gamma='auto')\n",
    "SVR.fit(x_train_std, y_train)\n",
    "\n",
    "# 予測　\n",
    "pred_SVR = SVR.predict(x_test_std)\n",
    "\n",
    "# 評価\n",
    "# 決定係数(R2)\n",
    "r2_SVR = r2_score(y_test, pred_SVR)\n",
    "\n",
    "# 平均絶対誤差(MAE)\n",
    "mae_SVR = mean_absolute_error(y_test, pred_SVR)\n",
    "\n",
    "print(\"R2 : %.3f\" % r2_SVR)\n",
    "print(\"MAE : %.3f\" % mae_SVR)\n",
    "\n",
    "# 回帰係数\n",
    "print(\"Coef = \", SVR.coef_)"
   ]
  },
  {
   "cell_type": "code",
   "execution_count": null,
   "metadata": {
    "id": "EhNqaluHA8ag"
   },
   "outputs": [],
   "source": []
  },
  {
   "cell_type": "code",
   "execution_count": null,
   "metadata": {
    "colab": {
     "base_uri": "https://localhost:8080/",
     "height": 280
    },
    "id": "MZYQAn76hPP7",
    "outputId": "33cb8a4e-04e5-40d9-b27f-be2f66782e6e"
   },
   "outputs": [],
   "source": [
    "plt.xlabel(\"pred_SVR\")\n",
    "plt.ylabel(\"y_test\")\n",
    "plt.scatter(pred_SVR, y_test)\n",
    "\n",
    "plt.show()"
   ]
  },
  {
   "cell_type": "code",
   "execution_count": null,
   "metadata": {
    "id": "rRYNiqu8hlXf"
   },
   "outputs": [],
   "source": [
    "# 必要なライブラリーのインポート\n",
    "import pandas as pd\n",
    "import numpy as np\n",
    "from sklearn.datasets import load_boston\n",
    "from sklearn.preprocessing import StandardScaler\n",
    "from sklearn.model_selection import train_test_split\n",
    "\n",
    "import seaborn as sns\n",
    "import matplotlib.pyplot as plt\n",
    "%matplotlib inline\n",
    "\n",
    "from sklearn.linear_model import LinearRegression\n",
    "from sklearn.linear_model import Ridge\n",
    "from sklearn.linear_model import Lasso\n",
    "from sklearn.linear_model import ElasticNet\n",
    "from sklearn.ensemble import RandomForestRegressor\n",
    "from sklearn.ensemble import GradientBoostingRegressor\n",
    "from sklearn.svm import SVR\n",
    "\n",
    "# データセットの読込み\n",
    "boston = load_boston()\n",
    "\n",
    "# データフレームの作成\n",
    "df = pd.DataFrame(boston.data, columns = boston.feature_names)\n",
    "# 目的変数の追加\n",
    "df['MEDV'] = boston.target\n",
    "\n",
    "# 学習データと評価データを作成\n",
    "x_train, x_test, y_train, y_test = train_test_split(df.iloc[:, 0:13], df.iloc[:, 13],\n",
    "                                                    test_size=0.2, random_state=1)\n",
    "\n",
    "#データを標準化\n",
    "sc = StandardScaler()\n",
    "sc.fit(x_train) #学習用データで標準化\n",
    "x_train_std = sc.transform(x_train)\n",
    "x_test_std = sc.transform(x_test)"
   ]
  },
  {
   "cell_type": "code",
   "execution_count": null,
   "metadata": {
    "id": "jdGydxHUkRon"
   },
   "outputs": [],
   "source": [
    "# スコア計算のためのライブラリ\n",
    "import pandas as pd\n",
    "import numpy as np\n",
    "from sklearn.datasets import load_boston\n",
    "from sklearn.preprocessing import StandardScaler\n",
    "from sklearn.model_selection import train_test_split\n",
    "\n",
    "import seaborn as sns\n",
    "import matplotlib.pyplot as plt\n",
    "%matplotlib inline\n",
    "\n",
    "from sklearn.linear_model import LinearRegression\n",
    "from sklearn.linear_model import Ridge\n",
    "from sklearn.linear_model import Lasso\n",
    "from sklearn.linear_model import ElasticNet\n",
    "from sklearn.ensemble import RandomForestRegressor\n",
    "from sklearn.ensemble import GradientBoostingRegressor\n",
    "from sklearn.svm import SVR\n",
    "\n",
    "def preprocess_sc(df):\n",
    "    \"\"\"データを学習データと評価データに分割し、標準化を行う\n",
    "\n",
    "    Parameters\n",
    "    ----------\n",
    "    df : pd.DataFrame\n",
    "        データセット（説明変数＋目的変数）\n",
    "\n",
    "    Returns\n",
    "    -------\n",
    "    x_train_std : pd.DataFrame\n",
    "        標準化後の学習データ（説明変数）\n",
    "    y_train : pd.DataFrame\n",
    "        学習データ（目的変数）\n",
    "    x_test_std : pd.DataFrame\n",
    "        標準化後の評価データ（説明変数）\n",
    "    y_test : pd.DataFrame\n",
    "        評価データ（目的変数）\n",
    "    \"\"\"\n",
    "    x_train, x_test, y_train, y_test = train_test_split(df.iloc[:, 0:13], df.iloc[:, 13],\n",
    "                                                        test_size=0.2, random_state=1)\n",
    "\n",
    "    #データを標準化\n",
    "    sc = StandardScaler()\n",
    "    sc.fit(x_train) #学習用データで標準化\n",
    "    x_train_std = sc.transform(x_train)\n",
    "    x_test_std = sc.transform(x_test)\n",
    "\n",
    "    return x_train_std, x_test_std, y_train, y_test\n",
    "\n",
    "def Linear_Regression(x_train_std, y_train, x_test_std):  \n",
    "    \"\"\"線形回帰で予測する\n",
    "\n",
    "    Parameters\n",
    "    ----------\n",
    "    x_train_std : pd.DataFrame\n",
    "        標準化後の学習データ（説明変数）\n",
    "    y_train : pd.DataFrame\n",
    "        学習データ（目的変数）\n",
    "    x_test_std : pd.DataFrame\n",
    "        標準化後の評価データ（説明変数）\n",
    "\n",
    "    Returns\n",
    "    -------\n",
    "    pred_lr : pd.DataFrame\n",
    "        線形回帰の予測結果\n",
    "    \"\"\"\n",
    "    lr = LinearRegression()\n",
    "    lr.fit(x_train_std, y_train)\n",
    "\n",
    "    pred_lr = lr.predict(x_test_std)\n",
    "\n",
    "    return pred_lr\n",
    "\n",
    "def Ridge_Regression(x_train_std, y_train, x_test_std, ALPHA=10.0):  \n",
    "    \"\"\"Ridge回帰で予測する\n",
    "\n",
    "    Parameters\n",
    "    ----------\n",
    "    x_train_std : pd.DataFrame\n",
    "        標準化後の学習データ（説明変数）\n",
    "    y_train : pd.DataFrame\n",
    "        学習データ（目的変数）\n",
    "    x_test_std : pd.DataFrame\n",
    "        標準化後の評価データ（説明変数）\n",
    "    ALPHA : float\n",
    "        正則化パラメータα\n",
    "\n",
    "    Returns\n",
    "    -------\n",
    "    pred_ridge : pd.DataFrame\n",
    "        Ridge回帰の予測結果\n",
    "    \"\"\"\n",
    "    ridge = Ridge(alpha=ALPHA)\n",
    "    ridge.fit(x_train_std, y_train)\n",
    "\n",
    "    pred_ridge = ridge.predict(x_test_std)\n",
    "\n",
    "    return pred_ridge\n",
    "\n",
    "def Lasso_Regression(x_train_std, y_train, x_test_std, ALPHA=0.05):  \n",
    "    \"\"\"Lasso回帰で予測する\n",
    "\n",
    "    Parameters\n",
    "    ----------\n",
    "    x_train_std : pd.DataFrame\n",
    "        標準化後の学習データ（説明変数）\n",
    "    y_train : pd.DataFrame\n",
    "        学習データ（目的変数）\n",
    "    x_test_std : pd.DataFrame\n",
    "        標準化後の評価データ（説明変数）\n",
    "    ALPHA : float\n",
    "        正則化パラメータα\n",
    "\n",
    "    Returns\n",
    "    -------\n",
    "    pred_lasso : pd.DataFrame\n",
    "        Lasso回帰の予測結果\n",
    "    \"\"\"\n",
    "    lasso = Lasso(alpha=ALPHA)\n",
    "    lasso.fit(x_train_std, y_train)\n",
    "\n",
    "    pred_lasso = lasso.predict(x_test_std)\n",
    "\n",
    "    return pred_lasso\n",
    "\n",
    "def ElasticNet_Regression(x_train_std, y_train, x_test_std, ALPHA=0.05):  \n",
    "    \"\"\"ElasticNet回帰で予測する\n",
    "\n",
    "    Parameters\n",
    "    ----------\n",
    "    x_train_std : pd.DataFrame\n",
    "        標準化後の学習データ（説明変数）\n",
    "    y_train : pd.DataFrame\n",
    "        学習データ（目的変数）\n",
    "    x_test_std : pd.DataFrame\n",
    "        標準化後の評価データ（説明変数）\n",
    "    ALPHA : float\n",
    "        正則化パラメータα\n",
    "\n",
    "    Returns\n",
    "    -------\n",
    "    pred_elasticnet : pd.DataFrame\n",
    "        ElasticNet回帰の予測結果\n",
    "    \"\"\"\n",
    "    elasticnet = ElasticNet(alpha=ALPHA)\n",
    "    elasticnet.fit(x_train_std, y_train)\n",
    "\n",
    "    pred_elasticnet = elasticnet.predict(x_test_std)\n",
    "\n",
    "    return pred_elasticnet\n",
    "\n",
    "def RandomForest_Regressor(x_train_std, y_train, x_test_std):  \n",
    "    \"\"\"RandomForest回帰で予測する\n",
    "\n",
    "    Parameters\n",
    "    ----------\n",
    "    x_train_std : pd.DataFrame\n",
    "        標準化後の学習データ（説明変数）\n",
    "    y_train : pd.DataFrame\n",
    "        学習データ（目的変数）\n",
    "    x_test_std : pd.DataFrame\n",
    "        標準化後の評価データ（説明変数）\n",
    "\n",
    "    Returns\n",
    "    -------\n",
    "    pred_RF : pd.DataFrame\n",
    "        RandomForest回帰の予測結果\n",
    "    \"\"\"\n",
    "    RF = RandomForestRegressor()\n",
    "    RF.fit(x_train_std, y_train)\n",
    "\n",
    "    pred_RF = RF.predict(x_test_std)\n",
    "\n",
    "    return pred_RF\n",
    "\n",
    "def GradientBoosting_Regressor(x_train_std, y_train, x_test_std):  \n",
    "    \"\"\"GBDTで予測する\n",
    "\n",
    "    Parameters\n",
    "    ----------\n",
    "    x_train_std : pd.DataFrame\n",
    "        標準化後の学習データ（説明変数）\n",
    "    y_train : pd.DataFrame\n",
    "        学習データ（目的変数）\n",
    "    x_test_std : pd.DataFrame\n",
    "        標準化後の評価データ（説明変数）\n",
    "\n",
    "    Returns\n",
    "    -------\n",
    "    pred_GBDT : pd.DataFrame\n",
    "        GBDTの予測結果\n",
    "    \"\"\"\n",
    "    GBDT = GradientBoostingRegressor()\n",
    "    GBDT.fit(x_train_std, y_train)\n",
    "\n",
    "    pred_GBDT = GBDT.predict(x_test_std)\n",
    "\n",
    "    return pred_GBDT\n",
    "\n",
    "def SVR_Regression(x_train_std, y_train, x_test_std):  \n",
    "    \"\"\"SVRで予測する\n",
    "\n",
    "    Parameters\n",
    "    ----------\n",
    "    x_train_std : pd.DataFrame\n",
    "        標準化後の学習データ（説明変数）\n",
    "    y_train : pd.DataFrame\n",
    "        学習データ（目的変数）\n",
    "    x_test_std : pd.DataFrame\n",
    "        標準化後の評価データ（説明変数）\n",
    "\n",
    "    Returns\n",
    "    -------\n",
    "    pred_SVR : pd.DataFrame\n",
    "        GBDTの予測結果\n",
    "    \"\"\"\n",
    "    svr = SVR()\n",
    "    svr.fit(x_train_std, y_train)\n",
    "\n",
    "    pred_SVR = svr.predict(x_test_std)\n",
    "\n",
    "    return pred_SVR\n",
    "\n",
    "def main():\n",
    "    # データセットの読込み\n",
    "    boston = load_boston()\n",
    "\n",
    "    # データフレームの作成\n",
    "    # 説明変数の格納\n",
    "    df = pd.DataFrame(boston.data, columns = boston.feature_names)\n",
    "\n",
    "    # 目的変数の追加\n",
    "    df['MEDV'] = boston.target\n",
    "\n",
    "    # データの前処理\n",
    "    x_train_std, x_test_std, y_train, y_test = preprocess_sc(df)\n",
    "\n",
    "    pred_lr = pd.DataFrame(Linear_Regression(x_train_std, y_train, x_test_std))\n",
    "    pred_ridge = pd.DataFrame(Ridge_Regression(x_train_std, y_train, x_test_std, ALPHA=10.0))\n",
    "    pred_lasso = pd.DataFrame(Lasso_Regression(x_train_std, y_train, x_test_std, ALPHA=0.05))\n",
    "    pred_elasticnet = pd.DataFrame(ElasticNet_Regression(x_train_std, y_train, x_test_std, ALPHA=0.05))\n",
    "    pred_RF = pd.DataFrame(RandomForest_Regressor(x_train_std, y_train, x_test_std))\n",
    "    pred_GBDT = pd.DataFrame(GradientBoosting_Regressor(x_train_std, y_train, x_test_std))\n",
    "    pred_SVR = pd.DataFrame(SVR_Regression(x_train_std, y_train, x_test_std))\n",
    "    pred_all = pd.concat([df_lr, pred_ridge, pred_lasso, pred_elasticnet, pred_RF, pred_GBDT, pred_SVR], axis=1, sort=False)\n",
    "    pred_all.columns = [\"df_lr\", \"pred_ridge\", \"pred_lasso\", \"pred_elasticnet\", \"pred_RF\", \"pred_GBDT\", \"pred_SVR\"]\n",
    "\n",
    "    return pred_all\n",
    "\n",
    "if __name__ == \"__main__\":\n",
    "    pred_all = main()"
   ]
  },
  {
   "cell_type": "code",
   "execution_count": null,
   "metadata": {
    "colab": {
     "base_uri": "https://localhost:8080/",
     "height": 419
    },
    "id": "ALZmSv89ApXM",
    "outputId": "720cb3cd-4c70-485d-8934-24967c902a12"
   },
   "outputs": [],
   "source": [
    "pred_all"
   ]
  },
  {
   "cell_type": "code",
   "execution_count": null,
   "metadata": {
    "id": "aKF9OzVSF3E4"
   },
   "outputs": [],
   "source": []
  }
 ],
 "metadata": {
  "colab": {
   "authorship_tag": "ABX9TyPtL2t3s+bP0dxyYYjw1QSU",
   "collapsed_sections": [],
   "name": "予測モデル.ipynb",
   "provenance": []
  },
  "kernelspec": {
   "display_name": "Python 3",
   "language": "python",
   "name": "python3"
  },
  "language_info": {
   "codemirror_mode": {
    "name": "ipython",
    "version": 3
   },
   "file_extension": ".py",
   "mimetype": "text/x-python",
   "name": "python",
   "nbconvert_exporter": "python",
   "pygments_lexer": "ipython3",
   "version": "3.7.4"
  }
 },
 "nbformat": 4,
 "nbformat_minor": 4
}
