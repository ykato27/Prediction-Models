{
  "nbformat": 4,
  "nbformat_minor": 0,
  "metadata": {
    "colab": {
      "name": "予測モデル.ipynb",
      "provenance": [],
      "collapsed_sections": [],
      "authorship_tag": "ABX9TyPtL2t3s+bP0dxyYYjw1QSU"
    },
    "kernelspec": {
      "name": "python3",
      "display_name": "Python 3"
    }
  },
  "cells": [
    {
      "cell_type": "code",
      "metadata": {
        "id": "5IaiAn8vwWF9",
        "colab": {
          "base_uri": "https://localhost:8080/",
          "height": 204
        },
        "outputId": "df7c3a36-f9f8-428d-a4c7-5e1b6b627db5"
      },
      "source": [
        "import pandas as pd\n",
        "import numpy as np\n",
        "from sklearn.datasets import load_boston\n",
        "\n",
        "# データセットの読込み\n",
        "boston = load_boston()\n",
        "\n",
        "# データフレームの作成\n",
        "# 説明変数の格納\n",
        "df = pd.DataFrame(boston.data, columns = boston.feature_names)\n",
        "\n",
        "# 目的変数の追加\n",
        "df['MEDV'] = boston.target\n",
        "\n",
        "# データの中身を確認\n",
        "df.head()"
      ],
      "execution_count": null,
      "outputs": [
        {
          "output_type": "execute_result",
          "data": {
            "text/html": [
              "<div>\n",
              "<style scoped>\n",
              "    .dataframe tbody tr th:only-of-type {\n",
              "        vertical-align: middle;\n",
              "    }\n",
              "\n",
              "    .dataframe tbody tr th {\n",
              "        vertical-align: top;\n",
              "    }\n",
              "\n",
              "    .dataframe thead th {\n",
              "        text-align: right;\n",
              "    }\n",
              "</style>\n",
              "<table border=\"1\" class=\"dataframe\">\n",
              "  <thead>\n",
              "    <tr style=\"text-align: right;\">\n",
              "      <th></th>\n",
              "      <th>CRIM</th>\n",
              "      <th>ZN</th>\n",
              "      <th>INDUS</th>\n",
              "      <th>CHAS</th>\n",
              "      <th>NOX</th>\n",
              "      <th>RM</th>\n",
              "      <th>AGE</th>\n",
              "      <th>DIS</th>\n",
              "      <th>RAD</th>\n",
              "      <th>TAX</th>\n",
              "      <th>PTRATIO</th>\n",
              "      <th>B</th>\n",
              "      <th>LSTAT</th>\n",
              "      <th>MEDV</th>\n",
              "    </tr>\n",
              "  </thead>\n",
              "  <tbody>\n",
              "    <tr>\n",
              "      <th>0</th>\n",
              "      <td>0.00632</td>\n",
              "      <td>18.0</td>\n",
              "      <td>2.31</td>\n",
              "      <td>0.0</td>\n",
              "      <td>0.538</td>\n",
              "      <td>6.575</td>\n",
              "      <td>65.2</td>\n",
              "      <td>4.0900</td>\n",
              "      <td>1.0</td>\n",
              "      <td>296.0</td>\n",
              "      <td>15.3</td>\n",
              "      <td>396.90</td>\n",
              "      <td>4.98</td>\n",
              "      <td>24.0</td>\n",
              "    </tr>\n",
              "    <tr>\n",
              "      <th>1</th>\n",
              "      <td>0.02731</td>\n",
              "      <td>0.0</td>\n",
              "      <td>7.07</td>\n",
              "      <td>0.0</td>\n",
              "      <td>0.469</td>\n",
              "      <td>6.421</td>\n",
              "      <td>78.9</td>\n",
              "      <td>4.9671</td>\n",
              "      <td>2.0</td>\n",
              "      <td>242.0</td>\n",
              "      <td>17.8</td>\n",
              "      <td>396.90</td>\n",
              "      <td>9.14</td>\n",
              "      <td>21.6</td>\n",
              "    </tr>\n",
              "    <tr>\n",
              "      <th>2</th>\n",
              "      <td>0.02729</td>\n",
              "      <td>0.0</td>\n",
              "      <td>7.07</td>\n",
              "      <td>0.0</td>\n",
              "      <td>0.469</td>\n",
              "      <td>7.185</td>\n",
              "      <td>61.1</td>\n",
              "      <td>4.9671</td>\n",
              "      <td>2.0</td>\n",
              "      <td>242.0</td>\n",
              "      <td>17.8</td>\n",
              "      <td>392.83</td>\n",
              "      <td>4.03</td>\n",
              "      <td>34.7</td>\n",
              "    </tr>\n",
              "    <tr>\n",
              "      <th>3</th>\n",
              "      <td>0.03237</td>\n",
              "      <td>0.0</td>\n",
              "      <td>2.18</td>\n",
              "      <td>0.0</td>\n",
              "      <td>0.458</td>\n",
              "      <td>6.998</td>\n",
              "      <td>45.8</td>\n",
              "      <td>6.0622</td>\n",
              "      <td>3.0</td>\n",
              "      <td>222.0</td>\n",
              "      <td>18.7</td>\n",
              "      <td>394.63</td>\n",
              "      <td>2.94</td>\n",
              "      <td>33.4</td>\n",
              "    </tr>\n",
              "    <tr>\n",
              "      <th>4</th>\n",
              "      <td>0.06905</td>\n",
              "      <td>0.0</td>\n",
              "      <td>2.18</td>\n",
              "      <td>0.0</td>\n",
              "      <td>0.458</td>\n",
              "      <td>7.147</td>\n",
              "      <td>54.2</td>\n",
              "      <td>6.0622</td>\n",
              "      <td>3.0</td>\n",
              "      <td>222.0</td>\n",
              "      <td>18.7</td>\n",
              "      <td>396.90</td>\n",
              "      <td>5.33</td>\n",
              "      <td>36.2</td>\n",
              "    </tr>\n",
              "  </tbody>\n",
              "</table>\n",
              "</div>"
            ],
            "text/plain": [
              "      CRIM    ZN  INDUS  CHAS    NOX  ...    TAX  PTRATIO       B  LSTAT  MEDV\n",
              "0  0.00632  18.0   2.31   0.0  0.538  ...  296.0     15.3  396.90   4.98  24.0\n",
              "1  0.02731   0.0   7.07   0.0  0.469  ...  242.0     17.8  396.90   9.14  21.6\n",
              "2  0.02729   0.0   7.07   0.0  0.469  ...  242.0     17.8  392.83   4.03  34.7\n",
              "3  0.03237   0.0   2.18   0.0  0.458  ...  222.0     18.7  394.63   2.94  33.4\n",
              "4  0.06905   0.0   2.18   0.0  0.458  ...  222.0     18.7  396.90   5.33  36.2\n",
              "\n",
              "[5 rows x 14 columns]"
            ]
          },
          "metadata": {
            "tags": []
          },
          "execution_count": 11
        }
      ]
    },
    {
      "cell_type": "code",
      "metadata": {
        "id": "J4QGWhP8_-1Z"
      },
      "source": [
        "# ライブラリーのインポート\n",
        "from sklearn.preprocessing import StandardScaler\n",
        "from sklearn.model_selection import train_test_split\n",
        "\n",
        "# 学習データと評価データを作成\n",
        "x_train, x_test, y_train, y_test = train_test_split(df.iloc[:, 0:13], df.iloc[:, 13], test_size=0.2, random_state=2)\n",
        "\n",
        "#データを標準化\n",
        "sc = StandardScaler()\n",
        "sc.fit(x_train) #学習用データで標準化\n",
        "x_train_std = sc.transform(x_train)\n",
        "x_test_std = sc.transform(x_test)"
      ],
      "execution_count": null,
      "outputs": []
    },
    {
      "cell_type": "code",
      "metadata": {
        "id": "tmHpKDZImRVa",
        "colab": {
          "base_uri": "https://localhost:8080/"
        },
        "outputId": "749be0dd-4504-4fc0-feac-b90ea8750f00"
      },
      "source": [
        "# ライブラリーのインポート\n",
        "from sklearn.linear_model import LinearRegression\n",
        "\n",
        "# スコア計算のためのライブラリ\n",
        "from sklearn.metrics import r2_score\n",
        "from sklearn.metrics import mean_absolute_error\n",
        "\n",
        "# モデルの学習\n",
        "lr = LinearRegression()\n",
        "lr.fit(x_train_std, y_train)\n",
        "\n",
        "# 予測　\n",
        "pred_lr = lr.predict(x_test_std)\n",
        "\n",
        "# 評価\n",
        "# 決定係数(R2)\n",
        "r2_lr = r2_score(y_test, pred_lr)\n",
        "\n",
        "# 平均絶対誤差(MAE)\n",
        "mae_lr = mean_absolute_error(y_test, pred_lr)\n",
        "\n",
        "print(\"R2　:　%.3f\" % r2_lr)\n",
        "print(\"MAE : %.3f\" % mae_lr)\n",
        "\n",
        "# 回帰係数\n",
        "print(\"Coef = \", lr.coef_)\n",
        "# 切片\n",
        "print(\"Intercept =\", lr.intercept_)"
      ],
      "execution_count": null,
      "outputs": [
        {
          "output_type": "stream",
          "text": [
            "R2　:　0.779\n",
            "MAE : 3.113\n",
            "Coef =  [-0.93451207  0.85487686 -0.10446819  0.81541757 -1.90731862  2.54650028\n",
            "  0.25941464 -2.92654009  2.80505451 -1.95699832 -2.15881929  1.09153332\n",
            " -3.91941941]\n",
            "Intercept = 22.44133663366339\n"
          ],
          "name": "stdout"
        }
      ]
    },
    {
      "cell_type": "code",
      "metadata": {
        "id": "E8gTNFlZBCwu",
        "colab": {
          "base_uri": "https://localhost:8080/"
        },
        "outputId": "5997d6ee-8dec-45ba-c5d2-0d45bf3ec4b3"
      },
      "source": [
        "pred_lr"
      ],
      "execution_count": null,
      "outputs": [
        {
          "output_type": "execute_result",
          "data": {
            "text/plain": [
              "array([23.01506153, 21.2115869 , 33.71590384, 31.56542369,  3.1826268 ,\n",
              "        3.15381954, 27.40305304, 22.2126176 , 14.86506114, 21.34105453,\n",
              "       30.95942941, 26.70065029, 21.12624382, 18.37282564, 17.64315354,\n",
              "       25.38194186, 24.42970445, 13.36957057,  8.66686786, 18.57490534,\n",
              "       21.73966467, 20.34270529, 36.5461105 , 20.59627495, 19.87979627,\n",
              "       15.75766967, 37.11632999, 34.85897895, 30.83458635, 23.23441285,\n",
              "       18.68278505, 20.749546  , 31.84560076, 30.20214207, 13.3861702 ,\n",
              "       15.87078398, 13.70766096, 23.74163998, 25.95135088, 23.18325878,\n",
              "       28.99906539, 12.50341936, 31.08347911,  6.39401895, 23.71801218,\n",
              "       20.61523929, 33.15362417, 19.21862493, 35.89603081,  0.82365329,\n",
              "       31.90288611, 31.69640543,  6.58849712, 34.62762996, 20.41162545,\n",
              "       19.69277608, 19.53445865, 18.58689088, 15.81420496, 22.98764309,\n",
              "       19.65947045, 16.36377019, 18.48783369, 32.76568172, 35.49022568,\n",
              "       24.58349631, 41.5854766 , 32.94818456, 14.60990256, 27.43178268,\n",
              "        8.04470074,  5.61185652, 22.21428332, 18.72817007, 31.02824788,\n",
              "       26.04494485, 24.60357003, 24.84231113, 25.38796252, 24.87762205,\n",
              "       33.71343923, 19.72606026, 20.60046055, 27.82692882, 38.0055624 ,\n",
              "       37.24265207, 22.16841364, 29.6160177 , 31.07303315, 17.93399181,\n",
              "       20.87524555, 19.48170453, 18.61409692, 37.13055111, 39.81659125,\n",
              "        9.1811861 , 35.30202671, 30.28664671, 21.0820992 , 13.65467682,\n",
              "       31.38696603, 24.99174874])"
            ]
          },
          "metadata": {
            "tags": []
          },
          "execution_count": 17
        }
      ]
    },
    {
      "cell_type": "code",
      "metadata": {
        "id": "34-3X-kE5-o9",
        "colab": {
          "base_uri": "https://localhost:8080/",
          "height": 280
        },
        "outputId": "ceb92fe2-a6ca-403b-b8f6-3c9853154048"
      },
      "source": [
        "# ライブラリーのインポート\n",
        "import matplotlib.pyplot as plt\n",
        "%matplotlib inline\n",
        "\n",
        "plt.xlabel(\"pred_lr\")\n",
        "plt.ylabel(\"y_test\")\n",
        "plt.scatter(pred_lr, y_test)\n",
        "\n",
        "plt.show()"
      ],
      "execution_count": null,
      "outputs": [
        {
          "output_type": "display_data",
          "data": {
            "image/png": "[encoded data removed]",
            "text/plain": [
              "<Figure size 432x288 with 1 Axes>"
            ]
          },
          "metadata": {
            "tags": [],
            "needs_background": "light"
          }
        }
      ]
    },
    {
      "cell_type": "code",
      "metadata": {
        "id": "kdh4RGnI_BpX",
        "colab": {
          "base_uri": "https://localhost:8080/"
        },
        "outputId": "29ea657b-334d-4246-d861-af4ed2018a1f"
      },
      "source": [
        "# ライブラリーのインポート\n",
        "from sklearn.linear_model import Ridge\n",
        "\n",
        "# モデルの学習\n",
        "ridge = Ridge(alpha=10)\n",
        "ridge.fit(x_train_std, y_train)\n",
        "\n",
        "# 予測　\n",
        "pred_ridge = ridge.predict(x_test_std)\n",
        "\n",
        "# 評価\n",
        "# 決定係数(R2)\n",
        "r2_ridge = r2_score(y_test, pred_ridge)\n",
        "\n",
        "# 平均絶対誤差(MAE)\n",
        "mae_ridge = mean_absolute_error(y_test, pred_ridge)\n",
        "\n",
        "print(\"R2　:　%.3f\" % r2_ridge)\n",
        "print(\"MAE : %.3f\" % mae_ridge)\n",
        "\n",
        "# 回帰係数\n",
        "print(\"Coef = \", ridge.coef_)"
      ],
      "execution_count": null,
      "outputs": [
        {
          "output_type": "stream",
          "text": [
            "R2　:　0.780\n",
            "MAE : 3.093\n",
            "Coef =  [-0.86329633  0.7285083  -0.27135102  0.85108307 -1.63780795  2.6270911\n",
            "  0.18222203 -2.64613645  2.17038535 -1.42056563 -2.05032997  1.07266175\n",
            " -3.76668388]\n"
          ],
          "name": "stdout"
        }
      ]
    },
    {
      "cell_type": "code",
      "metadata": {
        "id": "GLWQBCDVA_T4",
        "colab": {
          "base_uri": "https://localhost:8080/"
        },
        "outputId": "722cb7e9-771a-4daa-ed70-798e14fbb1f8"
      },
      "source": [
        "pred_ridge"
      ],
      "execution_count": null,
      "outputs": [
        {
          "output_type": "execute_result",
          "data": {
            "text/plain": [
              "array([22.91044323, 21.53397244, 33.19377343, 31.06746567,  3.19833094,\n",
              "        3.64662565, 27.33264419, 23.08195399, 14.63749317, 21.66957917,\n",
              "       30.79673326, 26.55735187, 21.41724229, 18.25384215, 17.61886847,\n",
              "       25.34374455, 24.33876063, 13.3872763 ,  8.8999307 , 18.57336765,\n",
              "       21.94975226, 20.52205235, 36.12025376, 20.5267392 , 19.78329343,\n",
              "       16.01724622, 36.77248739, 34.81735983, 30.65497556, 23.48115344,\n",
              "       18.29495225, 20.90247154, 31.74835767, 29.97070314, 13.30015301,\n",
              "       16.22199615, 13.58672632, 23.90186731, 25.84866501, 23.22507831,\n",
              "       28.73110723, 12.7943185 , 31.10888785,  6.38366882, 23.32005389,\n",
              "       20.41410955, 33.31082934, 19.14499154, 35.3896122 ,  0.74105634,\n",
              "       31.66709313, 31.44317444,  6.82219299, 34.16770243, 19.94988928,\n",
              "       20.00244902, 19.60787192, 18.71879978, 16.12643697, 23.03318714,\n",
              "       19.60186563, 17.0073295 , 18.61116798, 32.06529326, 34.88048293,\n",
              "       24.77187058, 40.81451276, 32.75890454, 14.42647949, 27.56015648,\n",
              "        8.62520673,  5.74344586, 22.25542399, 18.47166596, 30.92118035,\n",
              "       26.08663192, 24.34857104, 24.52347389, 25.18295893, 24.9020731 ,\n",
              "       33.37919129, 19.92988059, 20.49440597, 27.90786229, 37.62322949,\n",
              "       36.79842319, 21.82514811, 29.31195281, 31.03475093, 17.8315383 ,\n",
              "       21.15022899, 19.71920991, 18.53589778, 36.60922738, 39.37790169,\n",
              "        9.25932086, 35.11202025, 30.59794396, 21.20492907, 13.94921244,\n",
              "       31.23156595, 24.99632208])"
            ]
          },
          "metadata": {
            "tags": []
          },
          "execution_count": 20
        }
      ]
    },
    {
      "cell_type": "code",
      "metadata": {
        "id": "9fDpDW3WCA7O"
      },
      "source": [
        "df_ridge = pd.DataFrame(pred_ridge)"
      ],
      "execution_count": null,
      "outputs": []
    },
    {
      "cell_type": "code",
      "metadata": {
        "id": "A08ShTdHDkMk"
      },
      "source": [
        "df_lr = pd.DataFrame(pred_lr)"
      ],
      "execution_count": null,
      "outputs": []
    },
    {
      "cell_type": "code",
      "metadata": {
        "id": "cgBuCyhdDoGS",
        "colab": {
          "base_uri": "https://localhost:8080/"
        },
        "outputId": "5f14f15e-f9fc-4fe3-9df7-cef5175a477d"
      },
      "source": [
        "df_lr.columns = ['lr']\n",
        "print(df_lr)"
      ],
      "execution_count": null,
      "outputs": [
        {
          "output_type": "stream",
          "text": [
            "            lr\n",
            "0    23.015062\n",
            "1    21.211587\n",
            "2    33.715904\n",
            "3    31.565424\n",
            "4     3.182627\n",
            "..         ...\n",
            "97   30.286647\n",
            "98   21.082099\n",
            "99   13.654677\n",
            "100  31.386966\n",
            "101  24.991749\n",
            "\n",
            "[102 rows x 1 columns]\n"
          ],
          "name": "stdout"
        }
      ]
    },
    {
      "cell_type": "code",
      "metadata": {
        "id": "eFcafDVDDslC",
        "colab": {
          "base_uri": "https://localhost:8080/",
          "height": 419
        },
        "outputId": "e2549a08-8478-423b-c43b-6e3531c2adff"
      },
      "source": [
        "pd.concat([df_ridge, df_lr, df_lr], axis=1, sort=False)"
      ],
      "execution_count": null,
      "outputs": [
        {
          "output_type": "execute_result",
          "data": {
            "text/html": [
              "<div>\n",
              "<style scoped>\n",
              "    .dataframe tbody tr th:only-of-type {\n",
              "        vertical-align: middle;\n",
              "    }\n",
              "\n",
              "    .dataframe tbody tr th {\n",
              "        vertical-align: top;\n",
              "    }\n",
              "\n",
              "    .dataframe thead th {\n",
              "        text-align: right;\n",
              "    }\n",
              "</style>\n",
              "<table border=\"1\" class=\"dataframe\">\n",
              "  <thead>\n",
              "    <tr style=\"text-align: right;\">\n",
              "      <th></th>\n",
              "      <th>0</th>\n",
              "      <th>lr</th>\n",
              "      <th>lr</th>\n",
              "    </tr>\n",
              "  </thead>\n",
              "  <tbody>\n",
              "    <tr>\n",
              "      <th>0</th>\n",
              "      <td>22.910443</td>\n",
              "      <td>23.015062</td>\n",
              "      <td>23.015062</td>\n",
              "    </tr>\n",
              "    <tr>\n",
              "      <th>1</th>\n",
              "      <td>21.533972</td>\n",
              "      <td>21.211587</td>\n",
              "      <td>21.211587</td>\n",
              "    </tr>\n",
              "    <tr>\n",
              "      <th>2</th>\n",
              "      <td>33.193773</td>\n",
              "      <td>33.715904</td>\n",
              "      <td>33.715904</td>\n",
              "    </tr>\n",
              "    <tr>\n",
              "      <th>3</th>\n",
              "      <td>31.067466</td>\n",
              "      <td>31.565424</td>\n",
              "      <td>31.565424</td>\n",
              "    </tr>\n",
              "    <tr>\n",
              "      <th>4</th>\n",
              "      <td>3.198331</td>\n",
              "      <td>3.182627</td>\n",
              "      <td>3.182627</td>\n",
              "    </tr>\n",
              "    <tr>\n",
              "      <th>...</th>\n",
              "      <td>...</td>\n",
              "      <td>...</td>\n",
              "      <td>...</td>\n",
              "    </tr>\n",
              "    <tr>\n",
              "      <th>97</th>\n",
              "      <td>30.597944</td>\n",
              "      <td>30.286647</td>\n",
              "      <td>30.286647</td>\n",
              "    </tr>\n",
              "    <tr>\n",
              "      <th>98</th>\n",
              "      <td>21.204929</td>\n",
              "      <td>21.082099</td>\n",
              "      <td>21.082099</td>\n",
              "    </tr>\n",
              "    <tr>\n",
              "      <th>99</th>\n",
              "      <td>13.949212</td>\n",
              "      <td>13.654677</td>\n",
              "      <td>13.654677</td>\n",
              "    </tr>\n",
              "    <tr>\n",
              "      <th>100</th>\n",
              "      <td>31.231566</td>\n",
              "      <td>31.386966</td>\n",
              "      <td>31.386966</td>\n",
              "    </tr>\n",
              "    <tr>\n",
              "      <th>101</th>\n",
              "      <td>24.996322</td>\n",
              "      <td>24.991749</td>\n",
              "      <td>24.991749</td>\n",
              "    </tr>\n",
              "  </tbody>\n",
              "</table>\n",
              "<p>102 rows × 3 columns</p>\n",
              "</div>"
            ],
            "text/plain": [
              "             0         lr         lr\n",
              "0    22.910443  23.015062  23.015062\n",
              "1    21.533972  21.211587  21.211587\n",
              "2    33.193773  33.715904  33.715904\n",
              "3    31.067466  31.565424  31.565424\n",
              "4     3.198331   3.182627   3.182627\n",
              "..         ...        ...        ...\n",
              "97   30.597944  30.286647  30.286647\n",
              "98   21.204929  21.082099  21.082099\n",
              "99   13.949212  13.654677  13.654677\n",
              "100  31.231566  31.386966  31.386966\n",
              "101  24.996322  24.991749  24.991749\n",
              "\n",
              "[102 rows x 3 columns]"
            ]
          },
          "metadata": {
            "tags": []
          },
          "execution_count": 40
        }
      ]
    },
    {
      "cell_type": "code",
      "metadata": {
        "id": "R-fG85qGCSk2",
        "colab": {
          "base_uri": "https://localhost:8080/"
        },
        "outputId": "218edd53-d637-4824-baa4-f068ffa9854d"
      },
      "source": [
        "df_ridge.columns = ['ridge']\n",
        "print(df_ridge)"
      ],
      "execution_count": null,
      "outputs": [
        {
          "output_type": "stream",
          "text": [
            "         ridge\n",
            "0    22.910443\n",
            "1    21.533972\n",
            "2    33.193773\n",
            "3    31.067466\n",
            "4     3.198331\n",
            "..         ...\n",
            "97   30.597944\n",
            "98   21.204929\n",
            "99   13.949212\n",
            "100  31.231566\n",
            "101  24.996322\n",
            "\n",
            "[102 rows x 1 columns]\n"
          ],
          "name": "stdout"
        }
      ]
    },
    {
      "cell_type": "code",
      "metadata": {
        "id": "7VnL3K2rCsI3",
        "colab": {
          "base_uri": "https://localhost:8080/",
          "height": 134
        },
        "outputId": "8b2eb7c6-1d34-4433-b39a-1041e7635a24"
      },
      "source": [
        "pd.DataFrame(pd.np.column_stack([df_ridge, pred_lr, dtype=int)]))"
      ],
      "execution_count": null,
      "outputs": [
        {
          "output_type": "error",
          "ename": "SyntaxError",
          "evalue": "ignored",
          "traceback": [
            "\u001b[0;36m  File \u001b[0;32m\"<ipython-input-30-6c0e758d8320>\"\u001b[0;36m, line \u001b[0;32m1\u001b[0m\n\u001b[0;31m    pd.DataFrame(pd.np.column([df_ridge, pred_lr, dtype=int)]))\u001b[0m\n\u001b[0m                                                       ^\u001b[0m\n\u001b[0;31mSyntaxError\u001b[0m\u001b[0;31m:\u001b[0m invalid syntax\n"
          ]
        }
      ]
    },
    {
      "cell_type": "code",
      "metadata": {
        "id": "FnUiJErcFIB-",
        "colab": {
          "base_uri": "https://localhost:8080/",
          "height": 280
        },
        "outputId": "36ce535a-e08d-4392-c628-37367c7d6dad"
      },
      "source": [
        "plt.xlabel(\"pred_ridge\")\n",
        "plt.ylabel(\"y_test\")\n",
        "plt.scatter(pred_ridge, y_test)\n",
        "\n",
        "plt.show()"
      ],
      "execution_count": null,
      "outputs": [
        {
          "output_type": "display_data",
          "data": {
            "image/png": "[encoded data removed]",
            "text/plain": [
              "<Figure size 432x288 with 1 Axes>"
            ]
          },
          "metadata": {
            "tags": [],
            "needs_background": "light"
          }
        }
      ]
    },
    {
      "cell_type": "code",
      "metadata": {
        "id": "H-AZ2DVXFuK7",
        "colab": {
          "base_uri": "https://localhost:8080/"
        },
        "outputId": "e67291be-b5d8-4570-a9d3-47bea04d5e83"
      },
      "source": [
        "# ライブラリーのインポート\n",
        "from sklearn.linear_model import Lasso\n",
        "\n",
        "# モデルの学習\n",
        "lasso = Lasso(alpha=0.05)\n",
        "lasso.fit(x_train_std, y_train)\n",
        "\n",
        "# 予測　\n",
        "pred_lasso = lasso.predict(x_test_std)\n",
        "\n",
        "# 評価\n",
        "# 決定係数(R2)\n",
        "r2_lasso = r2_score(y_test, pred_lasso)\n",
        "\n",
        "# 平均絶対誤差(MAE)\n",
        "mae_lasso = mean_absolute_error(y_test, pred_lasso)\n",
        "\n",
        "print(\"R2　:　%.3f\" % r2_lasso)\n",
        "print(\"MAE : %.3f\" % mae_lasso)\n",
        "\n",
        "# 回帰係数\n",
        "print(\"Coef = \", lasso.coef_)"
      ],
      "execution_count": null,
      "outputs": [
        {
          "output_type": "stream",
          "text": [
            "R2　:　0.782\n",
            "MAE : 3.071\n",
            "Coef =  [-0.80179157  0.66308749 -0.144492    0.81447322 -1.61462819  2.63721307\n",
            "  0.05772041 -2.64430158  2.11051544 -1.40028941 -2.06766744  1.04882786\n",
            " -3.85778379]\n"
          ],
          "name": "stdout"
        }
      ]
    },
    {
      "cell_type": "code",
      "metadata": {
        "id": "wZufGsasIbhG",
        "colab": {
          "base_uri": "https://localhost:8080/",
          "height": 280
        },
        "outputId": "175f97d1-1d8d-4dc2-e426-bf259b391842"
      },
      "source": [
        "plt.xlabel(\"pred_lasso\")\n",
        "plt.ylabel(\"y_test\")\n",
        "plt.scatter(pred_lasso, y_test)\n",
        "\n",
        "plt.show()"
      ],
      "execution_count": null,
      "outputs": [
        {
          "output_type": "display_data",
          "data": {
            "image/png": "[encoded data removed]",
            "text/plain": [
              "<Figure size 432x288 with 1 Axes>"
            ]
          },
          "metadata": {
            "tags": [],
            "needs_background": "light"
          }
        }
      ]
    },
    {
      "cell_type": "code",
      "metadata": {
        "id": "MdB69EZjJUAw",
        "colab": {
          "base_uri": "https://localhost:8080/"
        },
        "outputId": "89021fed-e284-45ca-a66c-b19d80beb4e0"
      },
      "source": [
        "# ライブラリーのインポート\n",
        "from sklearn.linear_model import ElasticNet\n",
        "\n",
        "# モデルの学習\n",
        "elasticnet = ElasticNet(alpha=0.05)\n",
        "elasticnet.fit(x_train_std, y_train)\n",
        "\n",
        "# 予測　\n",
        "pred_elasticnet = elasticnet.predict(x_test_std)\n",
        "\n",
        "# 評価\n",
        "# 決定係数(R2)\n",
        "r2_elasticnet = r2_score(y_test, pred_elasticnet)\n",
        "\n",
        "# 平均絶対誤差(MAE)\n",
        "mae_elasticnet = mean_absolute_error(y_test, pred_elasticnet)\n",
        "\n",
        "print(\"R2　:　%.3f\" % r2_elasticnet)\n",
        "print(\"MAE : %.3f\" % mae_elasticnet)\n",
        "\n",
        "# 回帰係数\n",
        "print(\"Coef = \", elasticnet.coef_)"
      ],
      "execution_count": null,
      "outputs": [
        {
          "output_type": "stream",
          "text": [
            "R2　:　0.781\n",
            "MAE : 3.080\n",
            "Coef =  [-0.80547228  0.64625644 -0.27082019  0.84654972 -1.51126947  2.66279832\n",
            "  0.09096052 -2.51833347  1.89798734 -1.21656705 -2.01097151  1.05199894\n",
            " -3.73854124]\n"
          ],
          "name": "stdout"
        }
      ]
    },
    {
      "cell_type": "code",
      "metadata": {
        "id": "0o6FL5fQQZWv",
        "colab": {
          "base_uri": "https://localhost:8080/",
          "height": 280
        },
        "outputId": "b6c7cf31-8fa0-4a34-c8d2-4d984b4fb455"
      },
      "source": [
        "plt.xlabel(\"pred_elasticnet\")\n",
        "plt.ylabel(\"y_test\")\n",
        "plt.scatter(pred_elasticnet, y_test)\n",
        "\n",
        "plt.show()"
      ],
      "execution_count": null,
      "outputs": [
        {
          "output_type": "display_data",
          "data": {
            "image/png": "[encoded data removed]",
            "text/plain": [
              "<Figure size 432x288 with 1 Axes>"
            ]
          },
          "metadata": {
            "tags": [],
            "needs_background": "light"
          }
        }
      ]
    },
    {
      "cell_type": "code",
      "metadata": {
        "id": "QjTodvSJQhND",
        "colab": {
          "base_uri": "https://localhost:8080/"
        },
        "outputId": "894d6a32-22c7-4276-83a2-f80a72f4a5db"
      },
      "source": [
        "# ライブラリーのインポート\n",
        "from sklearn.ensemble import RandomForestRegressor\n",
        "\n",
        "# モデルの学習\n",
        "RF = RandomForestRegressor()\n",
        "RF.fit(x_train_std, y_train)\n",
        "\n",
        "# 予測　\n",
        "pred_RF = RF.predict(x_test_std)\n",
        "\n",
        "# 評価\n",
        "# 決定係数(R2)\n",
        "r2_RF = r2_score(y_test, pred_RF)\n",
        "\n",
        "# 平均絶対誤差(MAE)\n",
        "mae_RF = mean_absolute_error(y_test, pred_RF)\n",
        "\n",
        "print(\"R2　:　%.3f\" % r2_RF)\n",
        "print(\"MAE : %.3f\" % mae_RF)\n",
        "\n",
        "# 変数重要度\n",
        "print(\"feature_importances = \", RF.feature_importances_)"
      ],
      "execution_count": null,
      "outputs": [
        {
          "output_type": "stream",
          "text": [
            "R2　:　0.896\n",
            "MAE : 2.098\n",
            "feature_importances =  [0.04201874 0.00094257 0.00541873 0.00059164 0.01956035 0.39566533\n",
            " 0.01504557 0.0759157  0.00558947 0.01506433 0.01921451 0.01142672\n",
            " 0.39354635]\n"
          ],
          "name": "stdout"
        }
      ]
    },
    {
      "cell_type": "code",
      "metadata": {
        "id": "HoduvMFgUlPN",
        "colab": {
          "base_uri": "https://localhost:8080/",
          "height": 280
        },
        "outputId": "81466cf8-1786-4a47-d70e-6ebde96a6118"
      },
      "source": [
        "plt.xlabel(\"pred_RF\")\n",
        "plt.ylabel(\"y_test\")\n",
        "plt.scatter(pred_RF, y_test)\n",
        "\n",
        "plt.show()"
      ],
      "execution_count": null,
      "outputs": [
        {
          "output_type": "display_data",
          "data": {
            "image/png": "[encoded data removed]",
            "text/plain": [
              "<Figure size 432x288 with 1 Axes>"
            ]
          },
          "metadata": {
            "tags": [],
            "needs_background": "light"
          }
        }
      ]
    },
    {
      "cell_type": "code",
      "metadata": {
        "id": "MhE3VE3fUlyL",
        "colab": {
          "base_uri": "https://localhost:8080/"
        },
        "outputId": "112ef2ac-b9c5-4278-97c8-174737212908"
      },
      "source": [
        "# ライブラリーのインポート\n",
        "from sklearn.ensemble import GradientBoostingRegressor\n",
        "\n",
        "# モデルの学習\n",
        "GBDT = GradientBoostingRegressor()\n",
        "GBDT.fit(x_train_std, y_train)\n",
        "\n",
        "# 予測　\n",
        "pred_GBDT = GBDT.predict(x_test_std)\n",
        "\n",
        "# 評価\n",
        "# 決定係数(R2)\n",
        "r2_GBDT = r2_score(y_test, pred_GBDT)\n",
        "\n",
        "# 平均絶対誤差(MAE)\n",
        "mae_GBDT = mean_absolute_error(y_test, pred_GBDT)\n",
        "\n",
        "print(\"R2 : %.3f\" % r2_GBDT)\n",
        "print(\"MAE : %.3f\" % mae_GBDT)\n",
        "\n",
        "# 変数重要度\n",
        "print(\"feature_importances = \", GBDT.feature_importances_)"
      ],
      "execution_count": null,
      "outputs": [
        {
          "output_type": "stream",
          "text": [
            "R2 : 0.905\n",
            "MAE : 2.097\n",
            "feature_importances =  [0.03411472 0.00042674 0.00241657 0.00070636 0.03040394 0.34353116\n",
            " 0.00627447 0.10042527 0.0014266  0.0165308  0.03114765 0.01129208\n",
            " 0.42130366]\n"
          ],
          "name": "stdout"
        }
      ]
    },
    {
      "cell_type": "code",
      "metadata": {
        "id": "zqUJDd-vWG_N",
        "colab": {
          "base_uri": "https://localhost:8080/",
          "height": 280
        },
        "outputId": "9c9e2ef8-bbbf-48c4-ea19-8b463206692a"
      },
      "source": [
        "plt.xlabel(\"pred_GBDT\")\n",
        "plt.ylabel(\"y_test\")\n",
        "plt.scatter(pred_GBDT, y_test)\n",
        "\n",
        "plt.show()"
      ],
      "execution_count": null,
      "outputs": [
        {
          "output_type": "display_data",
          "data": {
            "image/png": "[encoded data removed]",
            "text/plain": [
              "<Figure size 432x288 with 1 Axes>"
            ]
          },
          "metadata": {
            "tags": [],
            "needs_background": "light"
          }
        }
      ]
    },
    {
      "cell_type": "code",
      "metadata": {
        "id": "hLJUqIC9WMdP",
        "colab": {
          "base_uri": "https://localhost:8080/",
          "height": 236
        },
        "outputId": "dd346ca3-c8d9-42ef-d6f2-8e52d468c5af"
      },
      "source": [
        "# ライブラリーのインポート\n",
        "from sklearn.svm import SVR\n",
        "\n",
        "# モデルの学習\n",
        "SVR = SVR(kernel='linear', C=1, epsilon=0.1, gamma='auto')\n",
        "SVR.fit(x_train_std, y_train)\n",
        "\n",
        "# 予測　\n",
        "pred_SVR = SVR.predict(x_test_std)\n",
        "\n",
        "# 評価\n",
        "# 決定係数(R2)\n",
        "r2_SVR = r2_score(y_test, pred_SVR)\n",
        "\n",
        "# 平均絶対誤差(MAE)\n",
        "mae_SVR = mean_absolute_error(y_test, pred_SVR)\n",
        "\n",
        "print(\"R2 : %.3f\" % r2_SVR)\n",
        "print(\"MAE : %.3f\" % mae_SVR)\n",
        "\n",
        "# 回帰係数\n",
        "print(\"Coef = \", SVR.coef_)"
      ],
      "execution_count": null,
      "outputs": [
        {
          "output_type": "error",
          "ename": "NameError",
          "evalue": "ignored",
          "traceback": [
            "\u001b[0;31m---------------------------------------------------------------------------\u001b[0m",
            "\u001b[0;31mNameError\u001b[0m                                 Traceback (most recent call last)",
            "\u001b[0;32m<ipython-input-9-3470f76068b8>\u001b[0m in \u001b[0;36m<module>\u001b[0;34m()\u001b[0m\n\u001b[1;32m      4\u001b[0m \u001b[0;31m# モデルの学習\u001b[0m\u001b[0;34m\u001b[0m\u001b[0;34m\u001b[0m\u001b[0;34m\u001b[0m\u001b[0m\n\u001b[1;32m      5\u001b[0m \u001b[0mSVR\u001b[0m \u001b[0;34m=\u001b[0m \u001b[0mSVR\u001b[0m\u001b[0;34m(\u001b[0m\u001b[0mkernel\u001b[0m\u001b[0;34m=\u001b[0m\u001b[0;34m'linear'\u001b[0m\u001b[0;34m,\u001b[0m \u001b[0mC\u001b[0m\u001b[0;34m=\u001b[0m\u001b[0;36m1\u001b[0m\u001b[0;34m,\u001b[0m \u001b[0mepsilon\u001b[0m\u001b[0;34m=\u001b[0m\u001b[0;36m0.1\u001b[0m\u001b[0;34m,\u001b[0m \u001b[0mgamma\u001b[0m\u001b[0;34m=\u001b[0m\u001b[0;34m'auto'\u001b[0m\u001b[0;34m)\u001b[0m\u001b[0;34m\u001b[0m\u001b[0;34m\u001b[0m\u001b[0m\n\u001b[0;32m----> 6\u001b[0;31m \u001b[0mSVR\u001b[0m\u001b[0;34m.\u001b[0m\u001b[0mfit\u001b[0m\u001b[0;34m(\u001b[0m\u001b[0mx_train_std\u001b[0m\u001b[0;34m,\u001b[0m \u001b[0my_train\u001b[0m\u001b[0;34m)\u001b[0m\u001b[0;34m\u001b[0m\u001b[0;34m\u001b[0m\u001b[0m\n\u001b[0m\u001b[1;32m      7\u001b[0m \u001b[0;34m\u001b[0m\u001b[0m\n\u001b[1;32m      8\u001b[0m \u001b[0;31m# 予測\u001b[0m\u001b[0;34m\u001b[0m\u001b[0;34m\u001b[0m\u001b[0;34m\u001b[0m\u001b[0m\n",
            "\u001b[0;31mNameError\u001b[0m: name 'x_train_std' is not defined"
          ]
        }
      ]
    },
    {
      "cell_type": "code",
      "metadata": {
        "id": "EhNqaluHA8ag"
      },
      "source": [
        ""
      ],
      "execution_count": null,
      "outputs": []
    },
    {
      "cell_type": "code",
      "metadata": {
        "id": "MZYQAn76hPP7",
        "colab": {
          "base_uri": "https://localhost:8080/",
          "height": 280
        },
        "outputId": "33cb8a4e-04e5-40d9-b27f-be2f66782e6e"
      },
      "source": [
        "plt.xlabel(\"pred_SVR\")\n",
        "plt.ylabel(\"y_test\")\n",
        "plt.scatter(pred_SVR, y_test)\n",
        "\n",
        "plt.show()"
      ],
      "execution_count": null,
      "outputs": [
        {
          "output_type": "display_data",
          "data": {
            "image/png": "[encoded data removed]",
            "text/plain": [
              "<Figure size 432x288 with 1 Axes>"
            ]
          },
          "metadata": {
            "tags": [],
            "needs_background": "light"
          }
        }
      ]
    },
    {
      "cell_type": "code",
      "metadata": {
        "id": "rRYNiqu8hlXf"
      },
      "source": [
        "# 必要なライブラリーのインポート\n",
        "import pandas as pd\n",
        "import numpy as np\n",
        "from sklearn.datasets import load_boston\n",
        "from sklearn.preprocessing import StandardScaler\n",
        "from sklearn.model_selection import train_test_split\n",
        "\n",
        "import seaborn as sns\n",
        "import matplotlib.pyplot as plt\n",
        "%matplotlib inline\n",
        "\n",
        "from sklearn.linear_model import LinearRegression\n",
        "from sklearn.linear_model import Ridge\n",
        "from sklearn.linear_model import Lasso\n",
        "from sklearn.linear_model import ElasticNet\n",
        "from sklearn.ensemble import RandomForestRegressor\n",
        "from sklearn.ensemble import GradientBoostingRegressor\n",
        "from sklearn.svm import SVR\n",
        "\n",
        "# データセットの読込み\n",
        "boston = load_boston()\n",
        "\n",
        "# データフレームの作成\n",
        "df = pd.DataFrame(boston.data, columns = boston.feature_names)\n",
        "# 目的変数の追加\n",
        "df['MEDV'] = boston.target\n",
        "\n",
        "# 学習データと評価データを作成\n",
        "x_train, x_test, y_train, y_test = train_test_split(df.iloc[:, 0:13], df.iloc[:, 13],\n",
        "                                                    test_size=0.2, random_state=1)\n",
        "\n",
        "#データを標準化\n",
        "sc = StandardScaler()\n",
        "sc.fit(x_train) #学習用データで標準化\n",
        "x_train_std = sc.transform(x_train)\n",
        "x_test_std = sc.transform(x_test)"
      ],
      "execution_count": null,
      "outputs": []
    },
    {
      "cell_type": "code",
      "metadata": {
        "id": "jdGydxHUkRon"
      },
      "source": [
        "# スコア計算のためのライブラリ\n",
        "import pandas as pd\n",
        "import numpy as np\n",
        "from sklearn.datasets import load_boston\n",
        "from sklearn.preprocessing import StandardScaler\n",
        "from sklearn.model_selection import train_test_split\n",
        "\n",
        "import seaborn as sns\n",
        "import matplotlib.pyplot as plt\n",
        "%matplotlib inline\n",
        "\n",
        "from sklearn.linear_model import LinearRegression\n",
        "from sklearn.linear_model import Ridge\n",
        "from sklearn.linear_model import Lasso\n",
        "from sklearn.linear_model import ElasticNet\n",
        "from sklearn.ensemble import RandomForestRegressor\n",
        "from sklearn.ensemble import GradientBoostingRegressor\n",
        "from sklearn.svm import SVR\n",
        "\n",
        "def preprocess_sc(df):\n",
        "    \"\"\"データを学習データと評価データに分割し、標準化を行う\n",
        "\n",
        "    Parameters\n",
        "    ----------\n",
        "    df : pd.DataFrame\n",
        "        データセット（説明変数＋目的変数）\n",
        "\n",
        "    Returns\n",
        "    -------\n",
        "    x_train_std : pd.DataFrame\n",
        "        標準化後の学習データ（説明変数）\n",
        "    y_train : pd.DataFrame\n",
        "        学習データ（目的変数）\n",
        "    x_test_std : pd.DataFrame\n",
        "        標準化後の評価データ（説明変数）\n",
        "    y_test : pd.DataFrame\n",
        "        評価データ（目的変数）\n",
        "    \"\"\"\n",
        "    x_train, x_test, y_train, y_test = train_test_split(df.iloc[:, 0:13], df.iloc[:, 13],\n",
        "                                                        test_size=0.2, random_state=1)\n",
        "\n",
        "    #データを標準化\n",
        "    sc = StandardScaler()\n",
        "    sc.fit(x_train) #学習用データで標準化\n",
        "    x_train_std = sc.transform(x_train)\n",
        "    x_test_std = sc.transform(x_test)\n",
        "\n",
        "    return x_train_std, x_test_std, y_train, y_test\n",
        "\n",
        "def Linear_Regression(x_train_std, y_train, x_test_std):  \n",
        "    \"\"\"線形回帰で予測する\n",
        "\n",
        "    Parameters\n",
        "    ----------\n",
        "    x_train_std : pd.DataFrame\n",
        "        標準化後の学習データ（説明変数）\n",
        "    y_train : pd.DataFrame\n",
        "        学習データ（目的変数）\n",
        "    x_test_std : pd.DataFrame\n",
        "        標準化後の評価データ（説明変数）\n",
        "\n",
        "    Returns\n",
        "    -------\n",
        "    pred_lr : pd.DataFrame\n",
        "        線形回帰の予測結果\n",
        "    \"\"\"\n",
        "    lr = LinearRegression()\n",
        "    lr.fit(x_train_std, y_train)\n",
        "\n",
        "    pred_lr = lr.predict(x_test_std)\n",
        "\n",
        "    return pred_lr\n",
        "\n",
        "def Ridge_Regression(x_train_std, y_train, x_test_std, ALPHA=10.0):  \n",
        "    \"\"\"Ridge回帰で予測する\n",
        "\n",
        "    Parameters\n",
        "    ----------\n",
        "    x_train_std : pd.DataFrame\n",
        "        標準化後の学習データ（説明変数）\n",
        "    y_train : pd.DataFrame\n",
        "        学習データ（目的変数）\n",
        "    x_test_std : pd.DataFrame\n",
        "        標準化後の評価データ（説明変数）\n",
        "    ALPHA : float\n",
        "        正則化パラメータα\n",
        "\n",
        "    Returns\n",
        "    -------\n",
        "    pred_ridge : pd.DataFrame\n",
        "        Ridge回帰の予測結果\n",
        "    \"\"\"\n",
        "    ridge = Ridge(alpha=ALPHA)\n",
        "    ridge.fit(x_train_std, y_train)\n",
        "\n",
        "    pred_ridge = ridge.predict(x_test_std)\n",
        "\n",
        "    return pred_ridge\n",
        "\n",
        "def Lasso_Regression(x_train_std, y_train, x_test_std, ALPHA=0.05):  \n",
        "    \"\"\"Lasso回帰で予測する\n",
        "\n",
        "    Parameters\n",
        "    ----------\n",
        "    x_train_std : pd.DataFrame\n",
        "        標準化後の学習データ（説明変数）\n",
        "    y_train : pd.DataFrame\n",
        "        学習データ（目的変数）\n",
        "    x_test_std : pd.DataFrame\n",
        "        標準化後の評価データ（説明変数）\n",
        "    ALPHA : float\n",
        "        正則化パラメータα\n",
        "\n",
        "    Returns\n",
        "    -------\n",
        "    pred_lasso : pd.DataFrame\n",
        "        Lasso回帰の予測結果\n",
        "    \"\"\"\n",
        "    lasso = Lasso(alpha=ALPHA)\n",
        "    lasso.fit(x_train_std, y_train)\n",
        "\n",
        "    pred_lasso = lasso.predict(x_test_std)\n",
        "\n",
        "    return pred_lasso\n",
        "\n",
        "def ElasticNet_Regression(x_train_std, y_train, x_test_std, ALPHA=0.05):  \n",
        "    \"\"\"ElasticNet回帰で予測する\n",
        "\n",
        "    Parameters\n",
        "    ----------\n",
        "    x_train_std : pd.DataFrame\n",
        "        標準化後の学習データ（説明変数）\n",
        "    y_train : pd.DataFrame\n",
        "        学習データ（目的変数）\n",
        "    x_test_std : pd.DataFrame\n",
        "        標準化後の評価データ（説明変数）\n",
        "    ALPHA : float\n",
        "        正則化パラメータα\n",
        "\n",
        "    Returns\n",
        "    -------\n",
        "    pred_elasticnet : pd.DataFrame\n",
        "        ElasticNet回帰の予測結果\n",
        "    \"\"\"\n",
        "    elasticnet = ElasticNet(alpha=ALPHA)\n",
        "    elasticnet.fit(x_train_std, y_train)\n",
        "\n",
        "    pred_elasticnet = elasticnet.predict(x_test_std)\n",
        "\n",
        "    return pred_elasticnet\n",
        "\n",
        "def RandomForest_Regressor(x_train_std, y_train, x_test_std):  \n",
        "    \"\"\"RandomForest回帰で予測する\n",
        "\n",
        "    Parameters\n",
        "    ----------\n",
        "    x_train_std : pd.DataFrame\n",
        "        標準化後の学習データ（説明変数）\n",
        "    y_train : pd.DataFrame\n",
        "        学習データ（目的変数）\n",
        "    x_test_std : pd.DataFrame\n",
        "        標準化後の評価データ（説明変数）\n",
        "\n",
        "    Returns\n",
        "    -------\n",
        "    pred_RF : pd.DataFrame\n",
        "        RandomForest回帰の予測結果\n",
        "    \"\"\"\n",
        "    RF = RandomForestRegressor()\n",
        "    RF.fit(x_train_std, y_train)\n",
        "\n",
        "    pred_RF = RF.predict(x_test_std)\n",
        "\n",
        "    return pred_RF\n",
        "\n",
        "def GradientBoosting_Regressor(x_train_std, y_train, x_test_std):  \n",
        "    \"\"\"GBDTで予測する\n",
        "\n",
        "    Parameters\n",
        "    ----------\n",
        "    x_train_std : pd.DataFrame\n",
        "        標準化後の学習データ（説明変数）\n",
        "    y_train : pd.DataFrame\n",
        "        学習データ（目的変数）\n",
        "    x_test_std : pd.DataFrame\n",
        "        標準化後の評価データ（説明変数）\n",
        "\n",
        "    Returns\n",
        "    -------\n",
        "    pred_GBDT : pd.DataFrame\n",
        "        GBDTの予測結果\n",
        "    \"\"\"\n",
        "    GBDT = GradientBoostingRegressor()\n",
        "    GBDT.fit(x_train_std, y_train)\n",
        "\n",
        "    pred_GBDT = GBDT.predict(x_test_std)\n",
        "\n",
        "    return pred_GBDT\n",
        "\n",
        "def SVR_Regression(x_train_std, y_train, x_test_std):  \n",
        "    \"\"\"SVRで予測する\n",
        "\n",
        "    Parameters\n",
        "    ----------\n",
        "    x_train_std : pd.DataFrame\n",
        "        標準化後の学習データ（説明変数）\n",
        "    y_train : pd.DataFrame\n",
        "        学習データ（目的変数）\n",
        "    x_test_std : pd.DataFrame\n",
        "        標準化後の評価データ（説明変数）\n",
        "\n",
        "    Returns\n",
        "    -------\n",
        "    pred_SVR : pd.DataFrame\n",
        "        GBDTの予測結果\n",
        "    \"\"\"\n",
        "    svr = SVR()\n",
        "    svr.fit(x_train_std, y_train)\n",
        "\n",
        "    pred_SVR = svr.predict(x_test_std)\n",
        "\n",
        "    return pred_SVR\n",
        "\n",
        "def main():\n",
        "    # データセットの読込み\n",
        "    boston = load_boston()\n",
        "\n",
        "    # データフレームの作成\n",
        "    # 説明変数の格納\n",
        "    df = pd.DataFrame(boston.data, columns = boston.feature_names)\n",
        "\n",
        "    # 目的変数の追加\n",
        "    df['MEDV'] = boston.target\n",
        "\n",
        "    # データの前処理\n",
        "    x_train_std, x_test_std, y_train, y_test = preprocess_sc(df)\n",
        "\n",
        "    pred_lr = pd.DataFrame(Linear_Regression(x_train_std, y_train, x_test_std))\n",
        "    pred_ridge = pd.DataFrame(Ridge_Regression(x_train_std, y_train, x_test_std, ALPHA=10.0))\n",
        "    pred_lasso = pd.DataFrame(Lasso_Regression(x_train_std, y_train, x_test_std, ALPHA=0.05))\n",
        "    pred_elasticnet = pd.DataFrame(ElasticNet_Regression(x_train_std, y_train, x_test_std, ALPHA=0.05))\n",
        "    pred_RF = pd.DataFrame(RandomForest_Regressor(x_train_std, y_train, x_test_std))\n",
        "    pred_GBDT = pd.DataFrame(GradientBoosting_Regressor(x_train_std, y_train, x_test_std))\n",
        "    pred_SVR = pd.DataFrame(SVR_Regression(x_train_std, y_train, x_test_std))\n",
        "    pred_all = pd.concat([df_lr, pred_ridge, pred_lasso, pred_elasticnet, pred_RF, pred_GBDT, pred_SVR], axis=1, sort=False)\n",
        "    pred_all.columns = [\"df_lr\", \"pred_ridge\", \"pred_lasso\", \"pred_elasticnet\", \"pred_RF\", \"pred_GBDT\", \"pred_SVR\"]\n",
        "\n",
        "    return pred_all\n",
        "\n",
        "if __name__ == \"__main__\":\n",
        "    pred_all = main()"
      ],
      "execution_count": null,
      "outputs": []
    },
    {
      "cell_type": "code",
      "metadata": {
        "id": "ALZmSv89ApXM",
        "colab": {
          "base_uri": "https://localhost:8080/",
          "height": 419
        },
        "outputId": "720cb3cd-4c70-485d-8934-24967c902a12"
      },
      "source": [
        "pred_all"
      ],
      "execution_count": null,
      "outputs": [
        {
          "output_type": "execute_result",
          "data": {
            "text/html": [
              "<div>\n",
              "<style scoped>\n",
              "    .dataframe tbody tr th:only-of-type {\n",
              "        vertical-align: middle;\n",
              "    }\n",
              "\n",
              "    .dataframe tbody tr th {\n",
              "        vertical-align: top;\n",
              "    }\n",
              "\n",
              "    .dataframe thead th {\n",
              "        text-align: right;\n",
              "    }\n",
              "</style>\n",
              "<table border=\"1\" class=\"dataframe\">\n",
              "  <thead>\n",
              "    <tr style=\"text-align: right;\">\n",
              "      <th></th>\n",
              "      <th>df_lr</th>\n",
              "      <th>pred_ridge</th>\n",
              "      <th>pred_lasso</th>\n",
              "      <th>pred_elasticnet</th>\n",
              "      <th>pred_RF</th>\n",
              "      <th>pred_GBDT</th>\n",
              "      <th>pred_SVR</th>\n",
              "    </tr>\n",
              "  </thead>\n",
              "  <tbody>\n",
              "    <tr>\n",
              "      <th>0</th>\n",
              "      <td>23.015062</td>\n",
              "      <td>31.843366</td>\n",
              "      <td>31.675627</td>\n",
              "      <td>31.447213</td>\n",
              "      <td>29.855</td>\n",
              "      <td>31.099364</td>\n",
              "      <td>29.201744</td>\n",
              "    </tr>\n",
              "    <tr>\n",
              "      <th>1</th>\n",
              "      <td>21.211587</td>\n",
              "      <td>28.191901</td>\n",
              "      <td>28.141179</td>\n",
              "      <td>28.186233</td>\n",
              "      <td>26.973</td>\n",
              "      <td>26.798775</td>\n",
              "      <td>27.968797</td>\n",
              "    </tr>\n",
              "    <tr>\n",
              "      <th>2</th>\n",
              "      <td>33.715904</td>\n",
              "      <td>18.174639</td>\n",
              "      <td>17.992214</td>\n",
              "      <td>18.188757</td>\n",
              "      <td>19.633</td>\n",
              "      <td>18.785927</td>\n",
              "      <td>17.856691</td>\n",
              "    </tr>\n",
              "    <tr>\n",
              "      <th>3</th>\n",
              "      <td>31.565424</td>\n",
              "      <td>21.837708</td>\n",
              "      <td>21.950251</td>\n",
              "      <td>22.014147</td>\n",
              "      <td>20.371</td>\n",
              "      <td>20.578452</td>\n",
              "      <td>20.945317</td>\n",
              "    </tr>\n",
              "    <tr>\n",
              "      <th>4</th>\n",
              "      <td>3.182627</td>\n",
              "      <td>18.571254</td>\n",
              "      <td>18.594703</td>\n",
              "      <td>18.487284</td>\n",
              "      <td>19.485</td>\n",
              "      <td>20.100782</td>\n",
              "      <td>18.882625</td>\n",
              "    </tr>\n",
              "    <tr>\n",
              "      <th>...</th>\n",
              "      <td>...</td>\n",
              "      <td>...</td>\n",
              "      <td>...</td>\n",
              "      <td>...</td>\n",
              "      <td>...</td>\n",
              "      <td>...</td>\n",
              "      <td>...</td>\n",
              "    </tr>\n",
              "    <tr>\n",
              "      <th>97</th>\n",
              "      <td>30.286647</td>\n",
              "      <td>28.392201</td>\n",
              "      <td>28.508057</td>\n",
              "      <td>28.192451</td>\n",
              "      <td>23.548</td>\n",
              "      <td>24.344395</td>\n",
              "      <td>25.391124</td>\n",
              "    </tr>\n",
              "    <tr>\n",
              "      <th>98</th>\n",
              "      <td>21.082099</td>\n",
              "      <td>36.839996</td>\n",
              "      <td>36.841312</td>\n",
              "      <td>36.715960</td>\n",
              "      <td>41.953</td>\n",
              "      <td>46.299745</td>\n",
              "      <td>33.778381</td>\n",
              "    </tr>\n",
              "    <tr>\n",
              "      <th>99</th>\n",
              "      <td>13.654677</td>\n",
              "      <td>20.832199</td>\n",
              "      <td>20.861783</td>\n",
              "      <td>20.924816</td>\n",
              "      <td>20.717</td>\n",
              "      <td>21.127397</td>\n",
              "      <td>20.672675</td>\n",
              "    </tr>\n",
              "    <tr>\n",
              "      <th>100</th>\n",
              "      <td>31.386966</td>\n",
              "      <td>16.993248</td>\n",
              "      <td>17.258409</td>\n",
              "      <td>16.954629</td>\n",
              "      <td>16.362</td>\n",
              "      <td>14.194582</td>\n",
              "      <td>15.213732</td>\n",
              "    </tr>\n",
              "    <tr>\n",
              "      <th>101</th>\n",
              "      <td>24.991749</td>\n",
              "      <td>17.809386</td>\n",
              "      <td>17.698101</td>\n",
              "      <td>17.803895</td>\n",
              "      <td>15.801</td>\n",
              "      <td>15.511112</td>\n",
              "      <td>14.693304</td>\n",
              "    </tr>\n",
              "  </tbody>\n",
              "</table>\n",
              "<p>102 rows × 7 columns</p>\n",
              "</div>"
            ],
            "text/plain": [
              "         df_lr  pred_ridge  pred_lasso  ...  pred_RF  pred_GBDT   pred_SVR\n",
              "0    23.015062   31.843366   31.675627  ...   29.855  31.099364  29.201744\n",
              "1    21.211587   28.191901   28.141179  ...   26.973  26.798775  27.968797\n",
              "2    33.715904   18.174639   17.992214  ...   19.633  18.785927  17.856691\n",
              "3    31.565424   21.837708   21.950251  ...   20.371  20.578452  20.945317\n",
              "4     3.182627   18.571254   18.594703  ...   19.485  20.100782  18.882625\n",
              "..         ...         ...         ...  ...      ...        ...        ...\n",
              "97   30.286647   28.392201   28.508057  ...   23.548  24.344395  25.391124\n",
              "98   21.082099   36.839996   36.841312  ...   41.953  46.299745  33.778381\n",
              "99   13.654677   20.832199   20.861783  ...   20.717  21.127397  20.672675\n",
              "100  31.386966   16.993248   17.258409  ...   16.362  14.194582  15.213732\n",
              "101  24.991749   17.809386   17.698101  ...   15.801  15.511112  14.693304\n",
              "\n",
              "[102 rows x 7 columns]"
            ]
          },
          "metadata": {
            "tags": []
          },
          "execution_count": 43
        }
      ]
    },
    {
      "cell_type": "code",
      "metadata": {
        "id": "aKF9OzVSF3E4"
      },
      "source": [
        ""
      ],
      "execution_count": null,
      "outputs": []
    }
  ]
}